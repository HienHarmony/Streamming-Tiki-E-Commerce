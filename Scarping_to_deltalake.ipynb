{
 "cells": [
  {
   "cell_type": "code",
   "execution_count": 0,
   "metadata": {
    "application/vnd.databricks.v1+cell": {
     "cellMetadata": {
      "byteLimit": 2048000,
      "rowLimit": 10000
     },
     "inputWidgets": {},
     "nuid": "d4e6756d-6ea6-4fdf-acc4-5e4213582edf",
     "showTitle": false,
     "tableResultSettingsMap": {},
     "title": ""
    }
   },
   "outputs": [],
   "source": [
    "# %pip install pandas requests\n",
    "# %pip install delta-spark\n"
   ]
  },
  {
   "cell_type": "code",
   "execution_count": 0,
   "metadata": {
    "application/vnd.databricks.v1+cell": {
     "cellMetadata": {
      "byteLimit": 2048000,
      "rowLimit": 10000
     },
     "inputWidgets": {},
     "nuid": "3d47126b-fc1f-48d5-b2f6-f82bf43f7b4c",
     "showTitle": false,
     "tableResultSettingsMap": {},
     "title": ""
    }
   },
   "outputs": [
    {
     "data": {
      "application/vnd.databricks.v1+bamboolib_hint": "{\"pd.DataFrames\": [], \"version\": \"0.0.1\"}",
      "text/plain": []
     },
     "metadata": {},
     "output_type": "display_data"
    }
   ],
   "source": [
    "import requests\n",
    "import os\n",
    "import logging\n",
    "import pandas as pd\n",
    "from datetime import datetime\n",
    "from concurrent.futures import ThreadPoolExecutor\n",
    "from pyspark.sql import SparkSession\n",
    "from pyspark.sql.functions import current_timestamp\n",
    "import pytz  # Timezone handling\n",
    "import stat  # File permissions"
   ]
  },
  {
   "cell_type": "code",
   "execution_count": 0,
   "metadata": {
    "application/vnd.databricks.v1+cell": {
     "cellMetadata": {
      "byteLimit": 2048000,
      "rowLimit": 10000
     },
     "inputWidgets": {},
     "nuid": "f4878ff1-31ad-4ca7-888b-050efb8e8ea0",
     "showTitle": false,
     "tableResultSettingsMap": {},
     "title": ""
    }
   },
   "outputs": [],
   "source": [
    "class TZFormatter(logging.Formatter):\n",
    "    def __init__(self, fmt=None, datefmt='%Y-%m-%d %H:%M:%S %Z', tz=None):\n",
    "        super().__init__(fmt=fmt, datefmt=datefmt)\n",
    "        self.tz = tz\n",
    "\n",
    "    def formatTime(self, record, datefmt=None):\n",
    "        dt = datetime.fromtimestamp(record.created, tz=self.tz)\n",
    "        return dt.strftime(datefmt or '%Y-%m-%d %H:%M:%S %Z')\n",
    "\n",
    "def init_log(name='log', log_dir=\"/dbfs/tmp/logs\", log_file=\"tiki.log\"):\n",
    "    if not os.path.exists(log_dir):\n",
    "        os.makedirs(log_dir, exist_ok=True)\n",
    "\n",
    "    logger = logging.getLogger(name)\n",
    "    logger.setLevel(logging.DEBUG)\n",
    "\n",
    "    if logger.hasHandlers():\n",
    "        logger.handlers.clear()\n",
    "\n",
    "    log_path = os.path.join(log_dir, log_file)\n",
    "    file_handler = logging.FileHandler(log_path)\n",
    "    file_handler.setLevel(logging.DEBUG)\n",
    "\n",
    "    ho_chi_minh_tz = pytz.timezone('Asia/Ho_Chi_Minh')\n",
    "    formatter = TZFormatter('%(asctime)s - %(name)s - %(levelname)s - %(message)s', tz=ho_chi_minh_tz)\n",
    "    file_handler.setFormatter(formatter)\n",
    "\n",
    "    logger.addHandler(file_handler)\n",
    "    os.chmod(log_path, stat.S_IRWXU | stat.S_IRWXG | stat.S_IRWXO)\n",
    "\n",
    "    return logger\n",
    "\n",
    "logger = init_log('tiki_logger')\n"
   ]
  },
  {
   "cell_type": "markdown",
   "metadata": {
    "application/vnd.databricks.v1+cell": {
     "cellMetadata": {
      "byteLimit": 2048000,
      "rowLimit": 10000
     },
     "inputWidgets": {},
     "nuid": "0863efeb-118f-423e-97e3-0aa5def28517",
     "showTitle": false,
     "tableResultSettingsMap": {},
     "title": ""
    }
   },
   "source": [
    "#Mount Azure Storage to DataBricks"
   ]
  },
  {
   "cell_type": "code",
   "execution_count": 0,
   "metadata": {
    "application/vnd.databricks.v1+cell": {
     "cellMetadata": {
      "byteLimit": 2048000,
      "rowLimit": 10000
     },
     "inputWidgets": {},
     "nuid": "be4465e0-ac11-4291-bf1f-d65b7c71eaa5",
     "showTitle": false,
     "tableResultSettingsMap": {},
     "title": ""
    }
   },
   "outputs": [
    {
     "name": "stdout",
     "output_type": "stream",
     "text": [
      "Mount thành công!\n"
     ]
    }
   ],
   "source": [
    "def mount_storage():\n",
    "    try:\n",
    "        dbutils.fs.mount(\n",
    "            source=\"name_storage\",\n",
    "            mount_point=\"/mnt/tikistorage\",  \n",
    "            extra_configs={\n",
    "                \"Key\"\n",
    "            }\n",
    "        )\n",
    "        print(\"Mount thành công!\")\n",
    "    except Exception as e:\n",
    "        print(f\"Mount thất bại: {e}\")\n",
    "\n",
    "mount_storage()"
   ]
  },
  {
   "cell_type": "code",
   "execution_count": 0,
   "metadata": {
    "application/vnd.databricks.v1+cell": {
     "cellMetadata": {
      "byteLimit": 2048000,
      "rowLimit": 10000
     },
     "inputWidgets": {},
     "nuid": "41140e74-521b-4222-86b3-505bdd772310",
     "showTitle": false,
     "tableResultSettingsMap": {},
     "title": ""
    }
   },
   "outputs": [
    {
     "data": {
      "text/html": [
       "<style scoped>\n",
       "  .table-result-container {\n",
       "    max-height: 300px;\n",
       "    overflow: auto;\n",
       "  }\n",
       "  table, th, td {\n",
       "    border: 1px solid black;\n",
       "    border-collapse: collapse;\n",
       "  }\n",
       "  th, td {\n",
       "    padding: 5px;\n",
       "  }\n",
       "  th {\n",
       "    text-align: left;\n",
       "  }\n",
       "</style><div class='table-result-container'><table class='table-result'><thead style='background-color: white'><tr><th>mountPoint</th><th>source</th><th>encryptionType</th></tr></thead><tbody><tr><td>/databricks-datasets</td><td>databricks-datasets</td><td></td></tr><tr><td>/databricks/mlflow-tracking</td><td>databricks/mlflow-tracking</td><td>sse-s3</td></tr><tr><td>/databricks-results</td><td>databricks-results</td><td>sse-s3</td></tr><tr><td>/databricks/mlflow-registry</td><td>databricks/mlflow-registry</td><td>sse-s3</td></tr><tr><td>/mnt/tikistorage</td><td>wasbs://datalake@tikistoragedata123.blob.core.windows.net</td><td></td></tr><tr><td>/</td><td>DatabricksRoot</td><td>sse-s3</td></tr></tbody></table></div>"
      ]
     },
     "metadata": {
      "application/vnd.databricks.v1+output": {
       "addedWidgets": {},
       "aggData": [],
       "aggError": "",
       "aggOverflow": false,
       "aggSchema": [],
       "aggSeriesLimitReached": false,
       "aggType": "",
       "arguments": {},
       "columnCustomDisplayInfos": {},
       "data": [
        [
         "/databricks-datasets",
         "databricks-datasets",
         ""
        ],
        [
         "/databricks/mlflow-tracking",
         "databricks/mlflow-tracking",
         "sse-s3"
        ],
        [
         "/databricks-results",
         "databricks-results",
         "sse-s3"
        ],
        [
         "/databricks/mlflow-registry",
         "databricks/mlflow-registry",
         "sse-s3"
        ],
        [
         "/mnt/tikistorage",
         "wasbs://datalake@tikistoragedata123.blob.core.windows.net",
         ""
        ],
        [
         "/",
         "DatabricksRoot",
         "sse-s3"
        ]
       ],
       "datasetInfos": [],
       "dbfsResultPath": null,
       "isJsonSchema": true,
       "metadata": {},
       "overflow": false,
       "plotOptions": {
        "customPlotOptions": {},
        "displayType": "table",
        "pivotAggregation": null,
        "pivotColumns": null,
        "xColumns": null,
        "yColumns": null
       },
       "removedWidgets": [],
       "schema": [
        {
         "metadata": "{}",
         "name": "mountPoint",
         "type": "\"string\""
        },
        {
         "metadata": "{}",
         "name": "source",
         "type": "\"string\""
        },
        {
         "metadata": "{}",
         "name": "encryptionType",
         "type": "\"string\""
        }
       ],
       "type": "table"
      }
     },
     "output_type": "display_data"
    }
   ],
   "source": [
    "display(dbutils.fs.mounts())\n"
   ]
  },
  {
   "cell_type": "markdown",
   "metadata": {
    "application/vnd.databricks.v1+cell": {
     "cellMetadata": {
      "byteLimit": 2048000,
      "rowLimit": 10000
     },
     "inputWidgets": {},
     "nuid": "28a8f2ab-70cf-439e-b356-a165e0b1aca3",
     "showTitle": false,
     "tableResultSettingsMap": {},
     "title": ""
    }
   },
   "source": [
    "# Tiki Scraping"
   ]
  },
  {
   "cell_type": "code",
   "execution_count": 0,
   "metadata": {
    "application/vnd.databricks.v1+cell": {
     "cellMetadata": {
      "byteLimit": 2048000,
      "rowLimit": 10000
     },
     "inputWidgets": {},
     "nuid": "43fac638-934d-48aa-9626-79bff49d7d2d",
     "showTitle": false,
     "tableResultSettingsMap": {},
     "title": ""
    }
   },
   "outputs": [],
   "source": [
    "from pyspark.sql import SparkSession\n",
    "from pyspark.sql.functions import current_timestamp\n",
    "import requests\n",
    "import pandas as pd\n",
    "import logging\n",
    "import os\n",
    "from concurrent.futures import ThreadPoolExecutor\n",
    "\n",
    "\n",
    "def init_log(logger_name, log_dir, log_file):\n",
    "    \"\"\"\n",
    "    Initialize logger with specific configuration.\n",
    "    \"\"\"\n",
    "    if not os.path.exists(log_dir):\n",
    "        os.makedirs(log_dir)\n",
    "\n",
    "    logger = logging.getLogger(logger_name)\n",
    "    logger.setLevel(logging.INFO)\n",
    "\n",
    "    log_path = os.path.join(log_dir, log_file)\n",
    "    file_handler = logging.FileHandler(log_path, encoding='utf-8')\n",
    "    file_handler.setLevel(logging.INFO)\n",
    "\n",
    "    formatter = logging.Formatter('%(asctime)s - %(name)s - %(levelname)s - %(message)s')\n",
    "    file_handler.setFormatter(formatter)\n",
    "\n",
    "    logger.addHandler(file_handler)\n",
    "    return logger\n",
    "\n",
    "\n",
    "logger = init_log('tiki', './logs', 'tiki.log')\n",
    "\n",
    "\n",
    "def get_categories():\n",
    "    \"\"\"\n",
    "    Fetch all categories from Tiki.vn.\n",
    "    Returns a list of category links.\n",
    "    \"\"\"\n",
    "    url = 'https://api.tiki.vn/raiden/v2/menu-config?platform=desktop'\n",
    "    headers = {'User-Agent': 'Mozilla/5.0'}\n",
    "    try:\n",
    "        response = requests.get(url, headers=headers)\n",
    "        response.raise_for_status()\n",
    "        data = response.json()\n",
    "        return [item['link'].split(\"/c\")[-1] for item in data.get(\"menu_block\", {}).get(\"items\", []) if 'link' in item]\n",
    "    except Exception as e:\n",
    "        logger.error(f\"Error fetching categories: {e}\")\n",
    "        return []\n",
    "\n",
    "\n",
    "def get_data(url):\n",
    "    headers = {'User-Agent': 'Mozilla/5.0'}\n",
    "    try:\n",
    "        response = requests.get(url, headers=headers)\n",
    "        response.raise_for_status()\n",
    "        return response.json().get(\"data\", [])\n",
    "    except requests.exceptions.RequestException as e:\n",
    "        logger.warning(f\"Error fetching data from {url}: {e}\")\n",
    "        return []\n",
    "\n",
    "\n",
    "def extract_product_fields(product):\n",
    "    \"\"\"\n",
    "    Extract important fields from product data.\n",
    "    \"\"\"\n",
    "    important_fields = {\n",
    "        'id': product.get('id'),\n",
    "        'sku': product.get('sku'),\n",
    "        'name': product.get('name'),\n",
    "        'price': product.get('price'),\n",
    "        'list_price': product.get('list_price'),\n",
    "        'discount': product.get('discount'),\n",
    "        'discount_rate': product.get('discount_rate'),\n",
    "        'rating_average': product.get('rating_average'),\n",
    "        'review_count': product.get('review_count'),\n",
    "        'order_count': product.get('order_count'),\n",
    "        'favourite_count': product.get('favourite_count'),\n",
    "        'thumbnail_url': product.get('thumbnail_url'),\n",
    "        'quantity_sold': product.get('quantity_sold', {}).get('value') if isinstance(product.get('quantity_sold'), dict) else None,\n",
    "        'original_price': product.get('original_price'),\n",
    "        'seller_id': product.get('seller_id'),\n",
    "        'seller': product.get('seller', {}).get('name') if isinstance(product.get('seller'), dict) else None,\n",
    "        'seller_product_id': product.get('seller_product_id'),\n",
    "        'brand_name': product.get('brand_name'),\n",
    "        'category_l1_name': product.get('visible_impression_info', {}).get('amplitude', {}).get('category_l1_name'),\n",
    "        'category_l2_name': product.get('visible_impression_info', {}).get('amplitude', {}).get('category_l2_name'),\n",
    "        'category_l3_name': product.get('visible_impression_info', {}).get('amplitude', {}).get('category_l3_name')\n",
    "    }\n",
    "    return important_fields\n",
    "\n",
    "\n",
    "def save_to_deltalake(data, delta_output_dir):\n",
    "    \"\"\"\n",
    "    Save all data into a single Delta Lake table with schema overwrite enabled.\n",
    "    \"\"\"\n",
    "    spark = SparkSession.builder \\\n",
    "        .appName(\"ProcessTikiData\") \\\n",
    "        .config(\"spark.sql.extensions\", \"io.delta.sql.DeltaSparkSessionExtension\") \\\n",
    "        .config(\"spark.sql.catalog.spark_catalog\", \"org.apache.spark.sql.delta.catalog.DeltaCatalog\") \\\n",
    "        .getOrCreate()\n",
    "\n",
    "    df = pd.DataFrame(data)\n",
    "    spark_df = spark.createDataFrame(df)\n",
    "\n",
    "    # Add processed time column\n",
    "    spark_df = spark_df.withColumn(\"processed_time\", current_timestamp())\n",
    "\n",
    "    # Write data to Delta Lake with schema overwrite\n",
    "    spark_df.write.format(\"delta\") \\\n",
    "        .option(\"overwriteSchema\", \"true\") \\\n",
    "        .mode(\"overwrite\") \\\n",
    "        .save(delta_output_dir)\n",
    "\n",
    "    logger.info(f\"Dữ liệu đã được lưu vào Delta Lake tại {delta_output_dir}.\")\n",
    "\n",
    "\n",
    "\n",
    "def process_category(category, total_data):\n",
    "    \"\"\"\n",
    "    Process data for a specific category and append to total_data.\n",
    "    \"\"\"\n",
    "    try:\n",
    "        page = 1\n",
    "        while True:\n",
    "            url = f'https://tiki.vn/api/personalish/v1/blocks/listings?limit=300&category={category}&page={page}'\n",
    "            data = get_data(url)\n",
    "            if not data:\n",
    "                logger.info(f\"No more data for category {category} at page {page}\")\n",
    "                break\n",
    "            extracted_data = [extract_product_fields(item) for item in data]\n",
    "            total_data.extend(extracted_data)\n",
    "            logger.info(f\"Fetched {len(data)} products from category {category}, page {page}\")\n",
    "            page += 1\n",
    "    except Exception as e:\n",
    "        logger.error(f\"Error processing category {category}: {e}\")\n",
    "\n",
    "\n",
    "def crawl_data(output_dir):\n",
    "    \"\"\"\n",
    "    Crawl data from all categories and save to Delta Lake.\n",
    "    \"\"\"\n",
    "    categories = get_categories()\n",
    "    if not categories:\n",
    "        logger.error(\"No categories found to process.\")\n",
    "        return\n",
    "\n",
    "    total_data = []\n",
    "\n",
    "    # Use ThreadPoolExecutor to process categories in parallel\n",
    "    with ThreadPoolExecutor(max_workers=5) as executor:\n",
    "        executor.map(lambda category: process_category(category, total_data), categories)\n",
    "\n",
    "    if total_data:\n",
    "        save_to_deltalake(total_data, output_dir)\n",
    "        logger.info(\"Dữ liệu từ tất cả danh mục đã được lưu thành công.\")\n",
    "    else:\n",
    "        logger.warning(\"Không có dữ liệu để lưu.\")\n",
    "\n",
    "\n",
    "if __name__ == \"__main__\":\n",
    "    try:\n",
    "        logger.info(\"Bắt đầu quy trình cào dữ liệu từ Tiki...\")\n",
    "        crawl_data(output_dir=\"/mnt/tikistorage/tiki_data\")\n",
    "        logger.info(\"Quy trình cào dữ liệu hoàn thành!\")\n",
    "    except Exception as e:\n",
    "        logger.error(f\"Lỗi xảy ra trong quá trình cào dữ liệu: {e}\")\n"
   ]
  },
  {
   "cell_type": "code",
   "execution_count": 0,
   "metadata": {
    "application/vnd.databricks.v1+cell": {
     "cellMetadata": {
      "byteLimit": 2048000,
      "rowLimit": 10000
     },
     "inputWidgets": {},
     "nuid": "685b32c5-3328-4887-9691-7a9fceef45cd",
     "showTitle": false,
     "tableResultSettingsMap": {},
     "title": ""
    }
   },
   "outputs": [
    {
     "name": "stdout",
     "output_type": "stream",
     "text": [
      "=== Nội dung Log File ===\n",
      "2024-12-09 07:56:58,754 - tiki - INFO - Bắt đầu quy trình cào dữ liệu từ Tiki...\n",
      "2024-12-09 07:56:59,950 - tiki - INFO - Fetched 40 products from category 8322, page 1\n",
      "2024-12-09 07:57:00,025 - tiki - INFO - Fetched 40 products from category 1883, page 1\n",
      "2024-12-09 07:57:00,038 - tiki - INFO - Fetched 40 products from category 1789, page 1\n",
      "2024-12-09 07:57:00,346 - tiki - INFO - Fetched 40 products from category 2549, page 1\n",
      "2024-12-09 07:57:00,419 - tiki - INFO - Fetched 40 products from category 8322, page 2\n",
      "2024-12-09 07:57:00,432 - tiki - INFO - Fetched 40 products from category 1815, page 1\n",
      "2024-12-09 07:57:00,717 - tiki - INFO - Fetched 40 products from category 1789, page 2\n",
      "2024-12-09 07:57:01,003 - tiki - INFO - Fetched 40 products from category 1883, page 2\n",
      "2024-12-09 07:57:01,051 - tiki - INFO - Fetched 40 products from category 8322, page 3\n",
      "2024-12-09 07:57:01,149 - tiki - INFO - Fetched 40 products from category 2549, page 2\n",
      "2024-12-09 07:57:01,160 - tiki - INFO - Fetched 40 products from category 1815, page 2\n",
      "2024-12-09 07:57:01,569 - tiki - INFO - Fetched 40 products from category 1789, page 3\n",
      "2024-12-09 07:57:01,870 - tiki - INFO - Fetched 40 products from category 1883, page 3\n",
      "2024-12-09 07:57:01,902 - tiki - INFO - Fetched 40 products from category 2549, page 3\n",
      "2024-12-09 07:57:02,039 - tiki - INFO - Fetched 40 products from category 1815, page 3\n",
      "2024-12-09 07:57:02,252 - tiki - INFO - Fetched 40 products from category 8322, page 4\n",
      "2024-12-09 07:57:02,448 - tiki - INFO - Fetched 40 products from category 1789, page 4\n",
      "2024-12-09 07:57:02,755 - tiki - INFO - Fetched 40 products from category 1883, page 4\n",
      "2024-12-09 07:57:02,829 - tiki - INFO - Fetched 40 products from category 1815, page 4\n",
      "2024-12-09 07:57:02,836 - tiki - INFO - Fetched 40 products from category 2549, page 4\n",
      "2024-12-09 07:57:03,022 - tiki - INFO - Fetched 40 products from category 8322, page 5\n",
      "2024-12-09 07:57:03,423 - tiki - INFO - Fetched 40 products from category 1789, page 5\n",
      "2024-12-09 07:57:03,638 - tiki - INFO - Fetched 40 products from category 1883, page 5\n",
      "2024-12-09 07:57:03,645 - tiki - INFO - Fetched 40 products from category 1815, page 5\n",
      "2024-12-09 07:57:03,925 - tiki - INFO - Fetched 40 products from category 2549, page 5\n",
      "2024-12-09 07:57:04,126 - tiki - INFO - Fetched 40 products from category 8322, page 6\n",
      "2024-12-09 07:57:04,345 - tiki - INFO - Fetched 40 products from category 1789, page 6\n",
      "2024-12-09 07:57:04,517 - tiki - INFO - Fetched 40 products from category 2549, page 6\n",
      "2024-12-09 07:57:04,538 - tiki - INFO - Fetched 40 products from category 1815, page 6\n",
      "2024-12-09 07:57:04,604 - tiki - INFO - Fetched 40 products from category 1883, page 6\n",
      "2024-12-09 07:57:04,729 - tiki - INFO - Fetched 40 products from category 8322, page 7\n",
      "2024-12-09 07:57:05,349 - tiki - INFO - Fetched 40 products from category 2549, page 7\n",
      "2024-12-09 07:57:05,356 - tiki - INFO - Fetched 40 products from category 1789, page 7\n",
      "2024-12-09 07:57:05,437 - tiki - INFO - Fetched 40 products from category 8322, page 8\n",
      "2024-12-09 07:57:05,463 - tiki - INFO - Fetched 40 products from category 1883, page 7\n",
      "2024-12-09 07:57:05,552 - tiki - INFO - Fetched 40 products from category 1815, page 7\n",
      "2024-12-09 07:57:06,224 - tiki - INFO - Fetched 40 products from category 1789, page 8\n",
      "2024-12-09 07:57:06,234 - tiki - INFO - Fetched 40 products from category 2549, page 8\n",
      "2024-12-09 07:57:06,302 - tiki - INFO - Fetched 40 products from category 8322, page 9\n",
      "2024-12-09 07:57:06,340 - tiki - INFO - Fetched 40 products from category 1883, page 8\n",
      "2024-12-09 07:57:06,550 - tiki - INFO - Fetched 40 products from category 1815, page 8\n",
      "2024-12-09 07:57:06,998 - tiki - INFO - Fetched 40 products from category 1789, page 9\n",
      "2024-12-09 07:57:07,097 - tiki - INFO - Fetched 40 products from category 2549, page 9\n",
      "2024-12-09 07:57:07,136 - tiki - INFO - Fetched 40 products from category 1883, page 9\n",
      "2024-12-09 07:57:07,142 - tiki - INFO - Fetched 40 products from category 8322, page 10\n",
      "2024-12-09 07:57:07,587 - tiki - INFO - Fetched 40 products from category 1815, page 9\n",
      "2024-12-09 07:57:07,680 - tiki - INFO - Fetched 40 products from category 8322, page 11\n",
      "2024-12-09 07:57:07,901 - tiki - INFO - Fetched 40 products from category 1789, page 10\n",
      "2024-12-09 07:57:08,010 - tiki - INFO - Fetched 40 products from category 1883, page 10\n",
      "2024-12-09 07:57:08,134 - tiki - INFO - Fetched 40 products from category 2549, page 10\n",
      "2024-12-09 07:57:08,632 - tiki - INFO - Fetched 40 products from category 1815, page 10\n",
      "2024-12-09 07:57:08,698 - tiki - INFO - Fetched 40 products from category 8322, page 12\n",
      "2024-12-09 07:57:08,722 - tiki - INFO - Fetched 23 products from category 1789, page 11\n",
      "2024-12-09 07:57:08,865 - tiki - INFO - Fetched 40 products from category 1883, page 11\n",
      "2024-12-09 07:57:09,022 - tiki - INFO - Fetched 40 products from category 2549, page 11\n",
      "2024-12-09 07:57:09,069 - tiki - INFO - No more data for category 1789 at page 12\n",
      "2024-12-09 07:57:09,212 - tiki - INFO - Fetched 40 products from category 8322, page 13\n",
      "2024-12-09 07:57:09,434 - tiki - INFO - Fetched 40 products from category 1883, page 12\n",
      "2024-12-09 07:57:09,454 - tiki - INFO - Fetched 40 products from category 1815, page 11\n",
      "2024-12-09 07:57:09,984 - tiki - INFO - Fetched 40 products from category 1882, page 1\n",
      "2024-12-09 07:57:10,015 - tiki - INFO - Fetched 40 products from category 2549, page 12\n",
      "2024-12-09 07:57:10,096 - tiki - INFO - Fetched 40 products from category 1815, page 12\n",
      "2024-12-09 07:57:10,106 - tiki - INFO - Fetched 40 products from category 8322, page 14\n",
      "2024-12-09 07:57:10,392 - tiki - INFO - Fetched 40 products from category 1883, page 13\n",
      "2024-12-09 07:57:10,904 - tiki - INFO - Fetched 40 products from category 1815, page 13\n",
      "2024-12-09 07:57:10,953 - tiki - INFO - Fetched 40 products from category 1882, page 2\n",
      "2024-12-09 07:57:10,977 - tiki - INFO - Fetched 40 products from category 2549, page 13\n",
      "2024-12-09 07:57:11,075 - tiki - INFO - Fetched 40 products from category 8322, page 15\n",
      "2024-12-09 07:57:11,336 - tiki - INFO - Fetched 40 products from category 1883, page 14\n",
      "2024-12-09 07:57:11,739 - tiki - INFO - Fetched 40 products from category 1815, page 14\n",
      "2024-12-09 07:57:11,840 - tiki - INFO - Fetched 40 products from category 8322, page 16\n",
      "2024-12-09 07:57:12,155 - tiki - INFO - Fetched 40 products from category 1882, page 3\n",
      "2024-12-09 07:57:12,162 - tiki - INFO - Fetched 40 products from category 2549, page 14\n",
      "2024-12-09 07:57:12,390 - tiki - INFO - Fetched 40 products from category 1883, page 15\n",
      "2024-12-09 07:57:12,527 - tiki - INFO - Fetched 40 products from category 1815, page 15\n",
      "2024-12-09 07:57:12,716 - tiki - INFO - Fetched 40 products from category 1882, page 4\n",
      "2024-12-09 07:57:12,738 - tiki - INFO - Fetched 40 products from category 8322, page 17\n",
      "2024-12-09 07:57:12,984 - tiki - INFO - Fetched 40 products from category 2549, page 15\n",
      "2024-12-09 07:57:13,309 - tiki - INFO - Fetched 40 products from category 1883, page 16\n",
      "2024-12-09 07:57:13,416 - tiki - INFO - Fetched 40 products from category 1815, page 16\n",
      "2024-12-09 07:57:13,570 - tiki - INFO - Fetched 40 products from category 1882, page 5\n",
      "2024-12-09 07:57:13,697 - tiki - INFO - Fetched 40 products from category 2549, page 16\n",
      "2024-12-09 07:57:13,758 - tiki - INFO - Fetched 40 products from category 8322, page 18\n",
      "2024-12-09 07:57:14,174 - tiki - INFO - Fetched 40 products from category 1882, page 6\n",
      "2024-12-09 07:57:14,258 - tiki - INFO - Fetched 40 products from category 1883, page 17\n",
      "2024-12-09 07:57:14,431 - tiki - INFO - Fetched 40 products from category 1815, page 17\n",
      "2024-12-09 07:57:14,627 - tiki - INFO - Fetched 40 products from category 2549, page 17\n",
      "2024-12-09 07:57:14,891 - tiki - INFO - Fetched 40 products from category 8322, page 19\n",
      "2024-12-09 07:57:14,917 - tiki - INFO - Fetched 40 products from category 1883, page 18\n",
      "2024-12-09 07:57:14,980 - tiki - INFO - Fetched 40 products from category 1882, page 7\n",
      "2024-12-09 07:57:15,264 - tiki - INFO - Fetched 40 products from category 1815, page 18\n",
      "2024-12-09 07:57:15,600 - tiki - INFO - Fetched 40 products from category 2549, page 18\n",
      "2024-12-09 07:57:15,648 - tiki - INFO - Fetched 40 products from category 1883, page 19\n",
      "2024-12-09 07:57:15,718 - tiki - INFO - Fetched 40 products from category 8322, page 20\n",
      "2024-12-09 07:57:16,009 - tiki - INFO - Fetched 40 products from category 1882, page 8\n",
      "2024-12-09 07:57:16,159 - tiki - INFO - Fetched 40 products from category 1815, page 19\n",
      "2024-12-09 07:57:16,517 - tiki - INFO - Fetched 40 products from category 2549, page 19\n",
      "2024-12-09 07:57:16,543 - tiki - INFO - Fetched 40 products from category 1883, page 20\n",
      "2024-12-09 07:57:16,557 - tiki - INFO - Fetched 40 products from category 8322, page 21\n",
      "2024-12-09 07:57:16,776 - tiki - INFO - Fetched 40 products from category 1882, page 9\n",
      "2024-12-09 07:57:17,120 - tiki - INFO - Fetched 40 products from category 1815, page 20\n",
      "2024-12-09 07:57:17,266 - tiki - INFO - Fetched 40 products from category 1883, page 21\n",
      "2024-12-09 07:57:17,488 - tiki - INFO - Fetched 40 products from category 8322, page 22\n",
      "2024-12-09 07:57:17,538 - tiki - INFO - Fetched 40 products from category 2549, page 20\n",
      "2024-12-09 07:57:17,672 - tiki - INFO - Fetched 40 products from category 1882, page 10\n",
      "2024-12-09 07:57:17,868 - tiki - INFO - Fetched 40 products from category 1883, page 22\n",
      "2024-12-09 07:57:18,010 - tiki - INFO - Fetched 40 products from category 1815, page 21\n",
      "2024-12-09 07:57:18,180 - tiki - INFO - Fetched 40 products from category 8322, page 23\n",
      "2024-12-09 07:57:18,776 - tiki - INFO - Fetched 40 products from category 1882, page 11\n",
      "2024-12-09 07:57:18,778 - tiki - INFO - Fetched 40 products from category 2549, page 21\n",
      "2024-12-09 07:57:18,898 - tiki - INFO - Fetched 40 products from category 8322, page 24\n",
      "2024-12-09 07:57:18,957 - tiki - INFO - Fetched 40 products from category 1815, page 22\n",
      "2024-12-09 07:57:19,009 - tiki - INFO - Fetched 40 products from category 1883, page 23\n",
      "2024-12-09 07:57:19,382 - tiki - INFO - Fetched 40 products from category 2549, page 22\n",
      "2024-12-09 07:57:19,423 - tiki - INFO - Fetched 40 products from category 8322, page 25\n",
      "2024-12-09 07:57:19,624 - tiki - INFO - Fetched 40 products from category 1883, page 24\n",
      "2024-12-09 07:57:19,924 - tiki - INFO - Fetched 40 products from category 1882, page 12\n",
      "2024-12-09 07:57:20,080 - tiki - INFO - Fetched 40 products from category 1815, page 23\n",
      "2024-12-09 07:57:20,340 - tiki - INFO - Fetched 40 products from category 2549, page 23\n",
      "2024-12-09 07:57:20,585 - tiki - INFO - Fetched 40 products from category 8322, page 26\n",
      "2024-12-09 07:57:20,670 - tiki - INFO - Fetched 40 products from category 1883, page 25\n",
      "2024-12-09 07:57:20,795 - tiki - INFO - Fetched 40 products from category 1882, page 13\n",
      "2024-12-09 07:57:21,001 - tiki - INFO - Fetched 40 products from category 1815, page 24\n",
      "2024-12-09 07:57:21,302 - tiki - INFO - Fetched 40 products from category 2549, page 24\n",
      "2024-12-09 07:57:21,491 - tiki - INFO - Fetched 40 products from category 8322, page 27\n",
      "2024-12-09 07:57:21,547 - tiki - INFO - Fetched 40 products from category 1882, page 14\n",
      "2024-12-09 07:57:21,704 - tiki - INFO - Fetched 40 products from category 1883, page 26\n",
      "2024-12-09 07:57:21,867 - tiki - INFO - Fetched 40 products from category 1815, page 25\n",
      "2024-12-09 07:57:22,257 - tiki - INFO - Fetched 40 products from category 2549, page 25\n",
      "2024-12-09 07:57:22,403 - tiki - INFO - Fetched 40 products from category 8322, page 28\n",
      "2024-12-09 07:57:22,446 - tiki - INFO - Fetched 40 products from category 1882, page 15\n",
      "2024-12-09 07:57:22,554 - tiki - INFO - Fetched 40 products from category 1883, page 27\n",
      "2024-12-09 07:57:23,052 - tiki - INFO - Fetched 40 products from category 1815, page 26\n",
      "2024-12-09 07:57:23,081 - tiki - INFO - Fetched 40 products from category 1882, page 16\n",
      "2024-12-09 07:57:23,093 - tiki - INFO - Fetched 40 products from category 2549, page 26\n",
      "2024-12-09 07:57:23,101 - tiki - INFO - Fetched 40 products from category 8322, page 29\n",
      "2024-12-09 07:57:23,523 - tiki - INFO - Fetched 40 products from category 1883, page 28\n",
      "2024-12-09 07:57:23,901 - tiki - INFO - Fetched 40 products from category 8322, page 30\n",
      "2024-12-09 07:57:23,923 - tiki - INFO - Fetched 40 products from category 1815, page 27\n",
      "2024-12-09 07:57:24,009 - tiki - INFO - Fetched 40 products from category 1882, page 17\n",
      "2024-12-09 07:57:24,018 - tiki - INFO - Fetched 40 products from category 2549, page 27\n",
      "2024-12-09 07:57:24,235 - tiki - INFO - Fetched 40 products from category 1883, page 29\n",
      "2024-12-09 07:57:24,786 - tiki - INFO - Fetched 40 products from category 8322, page 31\n",
      "2024-12-09 07:57:24,960 - tiki - INFO - Fetched 40 products from category 2549, page 28\n",
      "2024-12-09 07:57:25,061 - tiki - INFO - Fetched 40 products from category 1882, page 18\n",
      "2024-12-09 07:57:25,104 - tiki - INFO - Fetched 40 products from category 1815, page 28\n",
      "2024-12-09 07:57:25,380 - tiki - INFO - Fetched 40 products from category 1883, page 30\n",
      "2024-12-09 07:57:25,670 - tiki - INFO - Fetched 40 products from category 8322, page 32\n",
      "2024-12-09 07:57:25,781 - tiki - INFO - Fetched 40 products from category 1815, page 29\n",
      "2024-12-09 07:57:25,898 - tiki - INFO - Fetched 40 products from category 2549, page 29\n",
      "2024-12-09 07:57:26,011 - tiki - INFO - Fetched 40 products from category 1882, page 19\n",
      "2024-12-09 07:57:26,316 - tiki - INFO - Fetched 40 products from category 1883, page 31\n",
      "2024-12-09 07:57:26,504 - tiki - INFO - Fetched 40 products from category 8322, page 33\n",
      "2024-12-09 07:57:26,674 - tiki - INFO - Fetched 40 products from category 1815, page 30\n",
      "2024-12-09 07:57:26,741 - tiki - INFO - Fetched 40 products from category 1882, page 20\n",
      "2024-12-09 07:57:26,858 - tiki - INFO - Fetched 40 products from category 2549, page 30\n",
      "2024-12-09 07:57:27,061 - tiki - INFO - Fetched 40 products from category 8322, page 34\n",
      "2024-12-09 07:57:27,244 - tiki - INFO - Fetched 40 products from category 1883, page 32\n",
      "2024-12-09 07:57:27,591 - tiki - INFO - Fetched 40 products from category 1882, page 21\n",
      "2024-12-09 07:57:27,605 - tiki - INFO - Fetched 40 products from category 1815, page 31\n",
      "2024-12-09 07:57:27,817 - tiki - INFO - Fetched 40 products from category 2549, page 31\n",
      "2024-12-09 07:57:27,924 - tiki - INFO - Fetched 40 products from category 8322, page 35\n",
      "2024-12-09 07:57:28,184 - tiki - INFO - Fetched 40 products from category 1883, page 33\n",
      "2024-12-09 07:57:28,452 - tiki - INFO - Fetched 40 products from category 1882, page 22\n",
      "2024-12-09 07:57:28,778 - tiki - INFO - Fetched 40 products from category 1815, page 32\n",
      "2024-12-09 07:57:28,996 - tiki - INFO - Fetched 40 products from category 8322, page 36\n",
      "2024-12-09 07:57:29,003 - tiki - INFO - Fetched 40 products from category 2549, page 32\n",
      "2024-12-09 07:57:29,133 - tiki - INFO - Fetched 40 products from category 1883, page 34\n",
      "2024-12-09 07:57:29,164 - tiki - INFO - Fetched 40 products from category 1882, page 23\n",
      "2024-12-09 07:57:29,724 - tiki - INFO - Fetched 40 products from category 1815, page 33\n",
      "2024-12-09 07:57:29,878 - tiki - INFO - Fetched 40 products from category 8322, page 37\n",
      "2024-12-09 07:57:29,964 - tiki - INFO - Fetched 40 products from category 1883, page 35\n",
      "2024-12-09 07:57:30,044 - tiki - INFO - Fetched 40 products from category 1882, page 24\n",
      "2024-12-09 07:57:30,079 - tiki - INFO - Fetched 40 products from category 2549, page 33\n",
      "2024-12-09 07:57:30,344 - tiki - INFO - Fetched 40 products from category 1815, page 34\n",
      "2024-12-09 07:57:30,865 - tiki - INFO - Fetched 40 products from category 8322, page 38\n",
      "2024-12-09 07:57:30,888 - tiki - INFO - Fetched 40 products from category 1883, page 36\n",
      "2024-12-09 07:57:31,043 - tiki - INFO - Fetched 40 products from category 1882, page 25\n",
      "2024-12-09 07:57:31,128 - tiki - INFO - Fetched 40 products from category 2549, page 34\n",
      "2024-12-09 07:57:31,145 - tiki - INFO - Fetched 40 products from category 1815, page 35\n",
      "2024-12-09 07:57:31,479 - tiki - INFO - Fetched 40 products from category 8322, page 39\n",
      "2024-12-09 07:57:31,851 - tiki - INFO - Fetched 40 products from category 1883, page 37\n",
      "2024-12-09 07:57:32,089 - tiki - INFO - Fetched 40 products from category 1815, page 36\n",
      "2024-12-09 07:57:32,174 - tiki - INFO - Fetched 40 products from category 1882, page 26\n",
      "2024-12-09 07:57:32,206 - tiki - INFO - Fetched 40 products from category 2549, page 35\n",
      "2024-12-09 07:57:32,281 - tiki - INFO - Fetched 40 products from category 8322, page 40\n",
      "2024-12-09 07:57:32,907 - tiki - INFO - Fetched 40 products from category 1883, page 38\n",
      "2024-12-09 07:57:32,994 - tiki - INFO - Fetched 40 products from category 1815, page 37\n",
      "2024-12-09 07:57:33,057 - tiki - INFO - Fetched 40 products from category 1882, page 27\n",
      "2024-12-09 07:57:33,186 - tiki - INFO - Fetched 40 products from category 2549, page 36\n",
      "2024-12-09 07:57:33,258 - tiki - INFO - Fetched 40 products from category 8322, page 41\n",
      "2024-12-09 07:57:33,602 - tiki - INFO - Fetched 40 products from category 1815, page 38\n",
      "2024-12-09 07:57:33,837 - tiki - INFO - Fetched 40 products from category 8322, page 42\n",
      "2024-12-09 07:57:33,913 - tiki - INFO - Fetched 40 products from category 1883, page 39\n",
      "2024-12-09 07:57:34,000 - tiki - INFO - Fetched 40 products from category 1882, page 28\n",
      "2024-12-09 07:57:34,224 - tiki - INFO - Fetched 40 products from category 2549, page 37\n",
      "2024-12-09 07:57:34,468 - tiki - INFO - Fetched 40 products from category 8322, page 43\n",
      "2024-12-09 07:57:34,518 - tiki - INFO - Fetched 40 products from category 1815, page 39\n",
      "2024-12-09 07:57:34,830 - tiki - INFO - Fetched 40 products from category 1882, page 29\n",
      "2024-12-09 07:57:35,007 - tiki - INFO - Fetched 40 products from category 1883, page 40\n",
      "2024-12-09 07:57:35,077 - tiki - INFO - Fetched 40 products from category 2549, page 38\n",
      "2024-12-09 07:57:35,276 - tiki - INFO - Fetched 40 products from category 8322, page 44\n",
      "2024-12-09 07:57:35,444 - tiki - INFO - Fetched 40 products from category 1815, page 40\n",
      "2024-12-09 07:57:35,607 - tiki - INFO - Fetched 40 products from category 1883, page 41\n",
      "2024-12-09 07:57:35,731 - tiki - INFO - Fetched 40 products from category 1882, page 30\n",
      "2024-12-09 07:57:35,916 - tiki - INFO - Fetched 40 products from category 2549, page 39\n",
      "2024-12-09 07:57:36,110 - tiki - INFO - Fetched 40 products from category 8322, page 45\n",
      "2024-12-09 07:57:36,317 - tiki - INFO - Fetched 40 products from category 1815, page 41\n",
      "2024-12-09 07:57:36,381 - tiki - INFO - Fetched 40 products from category 1882, page 31\n",
      "2024-12-09 07:57:36,516 - tiki - INFO - Fetched 40 products from category 1883, page 42\n",
      "2024-12-09 07:57:36,554 - tiki - INFO - Fetched 40 products from category 2549, page 40\n",
      "2024-12-09 07:57:36,943 - tiki - INFO - Fetched 40 products from category 8322, page 46\n",
      "2024-12-09 07:57:37,177 - tiki - INFO - Fetched 40 products from category 1882, page 32\n",
      "2024-12-09 07:57:37,280 - tiki - INFO - Fetched 40 products from category 1815, page 42\n",
      "2024-12-09 07:57:37,373 - tiki - INFO - Fetched 40 products from category 1883, page 43\n",
      "2024-12-09 07:57:37,643 - tiki - INFO - Fetched 40 products from category 2549, page 41\n",
      "2024-12-09 07:57:37,800 - tiki - INFO - Fetched 40 products from category 8322, page 47\n",
      "2024-12-09 07:57:37,894 - tiki - INFO - Fetched 40 products from category 1882, page 33\n",
      "2024-12-09 07:57:37,929 - tiki - INFO - Fetched 40 products from category 1815, page 43\n",
      "2024-12-09 07:57:38,069 - tiki - INFO - Fetched 40 products from category 1883, page 44\n",
      "2024-12-09 07:57:38,549 - tiki - INFO - Fetched 40 products from category 2549, page 42\n",
      "2024-12-09 07:57:38,692 - tiki - INFO - Fetched 40 products from category 8322, page 48\n",
      "2024-12-09 07:57:38,736 - tiki - INFO - Fetched 40 products from category 1815, page 44\n",
      "2024-12-09 07:57:38,791 - tiki - INFO - Fetched 40 products from category 1882, page 34\n",
      "2024-12-09 07:57:39,036 - tiki - INFO - Fetched 40 products from category 1883, page 45\n",
      "2024-12-09 07:57:39,328 - tiki - INFO - Fetched 40 products from category 8322, page 49\n",
      "2024-12-09 07:57:39,493 - tiki - INFO - Fetched 40 products from category 2549, page 43\n",
      "2024-12-09 07:57:39,721 - tiki - INFO - Fetched 40 products from category 1882, page 35\n",
      "2024-12-09 07:57:39,767 - tiki - INFO - Fetched 40 products from category 1883, page 46\n",
      "2024-12-09 07:57:39,827 - tiki - INFO - Fetched 40 products from category 1815, page 45\n",
      "2024-12-09 07:57:40,231 - tiki - INFO - Fetched 40 products from category 8322, page 50\n",
      "2024-12-09 07:57:40,468 - tiki - INFO - No more data for category 8322 at page 51\n",
      "2024-12-09 07:57:40,515 - tiki - INFO - Fetched 40 products from category 2549, page 44\n",
      "2024-12-09 07:57:40,605 - tiki - INFO - Fetched 40 products from category 1883, page 47\n",
      "2024-12-09 07:57:40,613 - tiki - INFO - Fetched 40 products from category 1882, page 36\n",
      "2024-12-09 07:57:40,780 - tiki - INFO - Fetched 40 products from category 1815, page 46\n",
      "2024-12-09 07:57:41,082 - tiki - INFO - Fetched 40 products from category 1520, page 1\n",
      "2024-12-09 07:57:41,327 - tiki - INFO - Fetched 40 products from category 1815, page 47\n",
      "2024-12-09 07:57:41,404 - tiki - INFO - Fetched 40 products from category 2549, page 45\n",
      "2024-12-09 07:57:41,561 - tiki - INFO - Fetched 40 products from category 1882, page 37\n",
      "2024-12-09 07:57:41,601 - tiki - INFO - Fetched 40 products from category 1883, page 48\n",
      "2024-12-09 07:57:41,777 - tiki - INFO - Fetched 40 products from category 1520, page 2\n",
      "2024-12-09 07:57:42,204 - tiki - INFO - Fetched 40 products from category 1815, page 48\n",
      "2024-12-09 07:57:42,220 - tiki - INFO - Fetched 40 products from category 1882, page 38\n",
      "2024-12-09 07:57:42,246 - tiki - INFO - Fetched 40 products from category 2549, page 46\n",
      "2024-12-09 07:57:42,460 - tiki - INFO - Fetched 40 products from category 1883, page 49\n",
      "2024-12-09 07:57:42,611 - tiki - INFO - Fetched 40 products from category 1520, page 3\n",
      "2024-12-09 07:57:42,907 - tiki - INFO - Fetched 40 products from category 1815, page 49\n",
      "2024-12-09 07:57:43,180 - tiki - INFO - Fetched 40 products from category 1882, page 39\n",
      "2024-12-09 07:57:43,202 - tiki - INFO - Fetched 40 products from category 2549, page 47\n",
      "2024-12-09 07:57:43,391 - tiki - INFO - Fetched 40 products from category 1883, page 50\n",
      "2024-12-09 07:57:43,509 - tiki - INFO - Fetched 40 products from category 1815, page 50\n",
      "2024-12-09 07:57:43,516 - tiki - INFO - Fetched 40 products from category 1520, page 4\n",
      "2024-12-09 07:57:43,638 - tiki - INFO - No more data for category 1883 at page 51\n",
      "2024-12-09 07:57:43,756 - tiki - INFO - No more data for category 1815 at page 51\n",
      "2024-12-09 07:57:44,108 - tiki - INFO - Fetched 40 products from category 1882, page 40\n",
      "2024-12-09 07:57:44,116 - tiki - INFO - Fetched 40 products from category 2549, page 48\n",
      "2024-12-09 07:57:44,334 - tiki - INFO - Fetched 40 products from category 931, page 1\n",
      "2024-12-09 07:57:44,496 - tiki - INFO - Fetched 40 products from category 1520, page 5\n",
      "2024-12-09 07:57:44,633 - tiki - INFO - Fetched 40 products from category 8594, page 1\n",
      "2024-12-09 07:57:44,890 - tiki - INFO - Fetched 40 products from category 1882, page 41\n",
      "2024-12-09 07:57:44,991 - tiki - INFO - Fetched 40 products from category 2549, page 49\n",
      "2024-12-09 07:57:45,148 - tiki - INFO - Fetched 40 products from category 931, page 2\n",
      "2024-12-09 07:57:45,366 - tiki - INFO - Fetched 40 products from category 1520, page 6\n",
      "2024-12-09 07:57:45,528 - tiki - INFO - Fetched 40 products from category 8594, page 2\n",
      "2024-12-09 07:57:45,789 - tiki - INFO - Fetched 40 products from category 1882, page 42\n",
      "2024-12-09 07:57:45,826 - tiki - INFO - Fetched 40 products from category 2549, page 50\n",
      "2024-12-09 07:57:46,145 - tiki - INFO - Fetched 40 products from category 931, page 3\n",
      "2024-12-09 07:57:46,224 - tiki - INFO - No more data for category 2549 at page 51\n",
      "2024-12-09 07:57:46,375 - tiki - INFO - Fetched 40 products from category 1520, page 7\n",
      "2024-12-09 07:57:46,485 - tiki - INFO - Fetched 40 products from category 8594, page 3\n",
      "2024-12-09 07:57:46,723 - tiki - INFO - Fetched 40 products from category 1882, page 43\n",
      "2024-12-09 07:57:47,158 - tiki - INFO - Fetched 40 products from category 931, page 4\n",
      "2024-12-09 07:57:47,190 - tiki - INFO - Fetched 40 products from category 4384, page 1\n",
      "2024-12-09 07:57:47,273 - tiki - INFO - Fetched 40 products from category 1520, page 8\n",
      "2024-12-09 07:57:47,530 - tiki - INFO - Fetched 40 products from category 8594, page 4\n",
      "2024-12-09 07:57:47,769 - tiki - INFO - Fetched 40 products from category 1882, page 44\n",
      "2024-12-09 07:57:47,991 - tiki - INFO - Fetched 40 products from category 931, page 5\n",
      "2024-12-09 07:57:47,998 - tiki - INFO - Fetched 40 products from category 4384, page 2\n",
      "2024-12-09 07:57:48,264 - tiki - INFO - Fetched 40 products from category 1520, page 9\n",
      "2024-12-09 07:57:48,493 - tiki - INFO - Fetched 40 products from category 8594, page 5\n",
      "2024-12-09 07:57:48,748 - tiki - INFO - Fetched 40 products from category 1882, page 45\n",
      "2024-12-09 07:57:48,853 - tiki - INFO - Fetched 40 products from category 931, page 6\n",
      "2024-12-09 07:57:48,963 - tiki - INFO - Fetched 40 products from category 4384, page 3\n",
      "2024-12-09 07:\n",
      "\n",
      "*** WARNING: max output size exceeded, skipping output. ***\n",
      "\n",
      ", page 26\n",
      "2024-12-09 08:09:09,836 - tiki - INFO - Fetched 40 products from category 976, page 26\n",
      "2024-12-09 08:09:09,857 - tiki - INFO - Fetched 40 products from category 27616, page 22\n",
      "2024-12-09 08:09:09,857 - tiki - INFO - Fetched 40 products from category 27616, page 22\n",
      "2024-12-09 08:09:09,970 - tiki - INFO - Fetched 40 products from category 11312, page 32\n",
      "2024-12-09 08:09:09,970 - tiki - INFO - Fetched 40 products from category 11312, page 32\n",
      "2024-12-09 08:09:10,214 - tiki - INFO - Fetched 40 products from category 6000, page 29\n",
      "2024-12-09 08:09:10,214 - tiki - INFO - Fetched 40 products from category 6000, page 29\n",
      "2024-12-09 08:09:10,294 - tiki - INFO - Fetched 40 products from category 976, page 27\n",
      "2024-12-09 08:09:10,294 - tiki - INFO - Fetched 40 products from category 976, page 27\n",
      "2024-12-09 08:09:10,363 - tiki - INFO - Fetched 40 products from category 15078, page 12\n",
      "2024-12-09 08:09:10,363 - tiki - INFO - Fetched 40 products from category 15078, page 12\n",
      "2024-12-09 08:09:10,762 - tiki - INFO - Fetched 40 products from category 27616, page 23\n",
      "2024-12-09 08:09:10,762 - tiki - INFO - Fetched 40 products from category 27616, page 23\n",
      "2024-12-09 08:09:10,816 - tiki - INFO - Fetched 40 products from category 11312, page 33\n",
      "2024-12-09 08:09:10,816 - tiki - INFO - Fetched 40 products from category 11312, page 33\n",
      "2024-12-09 08:09:11,154 - tiki - INFO - Fetched 40 products from category 15078, page 13\n",
      "2024-12-09 08:09:11,154 - tiki - INFO - Fetched 40 products from category 15078, page 13\n",
      "2024-12-09 08:09:11,209 - tiki - INFO - Fetched 40 products from category 6000, page 30\n",
      "2024-12-09 08:09:11,209 - tiki - INFO - Fetched 40 products from category 6000, page 30\n",
      "2024-12-09 08:09:11,226 - tiki - INFO - Fetched 40 products from category 27616, page 24\n",
      "2024-12-09 08:09:11,226 - tiki - INFO - Fetched 40 products from category 27616, page 24\n",
      "2024-12-09 08:09:11,347 - tiki - INFO - Fetched 40 products from category 976, page 28\n",
      "2024-12-09 08:09:11,347 - tiki - INFO - Fetched 40 products from category 976, page 28\n",
      "2024-12-09 08:09:11,482 - tiki - INFO - Fetched 40 products from category 11312, page 34\n",
      "2024-12-09 08:09:11,482 - tiki - INFO - Fetched 40 products from category 11312, page 34\n",
      "2024-12-09 08:09:11,835 - tiki - INFO - Fetched 40 products from category 6000, page 31\n",
      "2024-12-09 08:09:11,835 - tiki - INFO - Fetched 40 products from category 6000, page 31\n",
      "2024-12-09 08:09:11,941 - tiki - INFO - Fetched 40 products from category 976, page 29\n",
      "2024-12-09 08:09:11,941 - tiki - INFO - Fetched 40 products from category 976, page 29\n",
      "2024-12-09 08:09:12,080 - tiki - INFO - Fetched 40 products from category 27616, page 25\n",
      "2024-12-09 08:09:12,080 - tiki - INFO - Fetched 40 products from category 27616, page 25\n",
      "2024-12-09 08:09:12,172 - tiki - INFO - Fetched 40 products from category 11312, page 35\n",
      "2024-12-09 08:09:12,172 - tiki - INFO - Fetched 40 products from category 11312, page 35\n",
      "2024-12-09 08:09:12,324 - tiki - INFO - Fetched 40 products from category 15078, page 14\n",
      "2024-12-09 08:09:12,324 - tiki - INFO - Fetched 40 products from category 15078, page 14\n",
      "2024-12-09 08:09:12,748 - tiki - INFO - Fetched 40 products from category 27616, page 26\n",
      "2024-12-09 08:09:12,748 - tiki - INFO - Fetched 40 products from category 27616, page 26\n",
      "2024-12-09 08:09:12,816 - tiki - INFO - Fetched 40 products from category 6000, page 32\n",
      "2024-12-09 08:09:12,816 - tiki - INFO - Fetched 40 products from category 6000, page 32\n",
      "2024-12-09 08:09:12,922 - tiki - INFO - Fetched 40 products from category 976, page 30\n",
      "2024-12-09 08:09:12,922 - tiki - INFO - Fetched 40 products from category 976, page 30\n",
      "2024-12-09 08:09:13,052 - tiki - INFO - Fetched 40 products from category 11312, page 36\n",
      "2024-12-09 08:09:13,052 - tiki - INFO - Fetched 40 products from category 11312, page 36\n",
      "2024-12-09 08:09:13,140 - tiki - INFO - Fetched 40 products from category 15078, page 15\n",
      "2024-12-09 08:09:13,140 - tiki - INFO - Fetched 40 products from category 15078, page 15\n",
      "2024-12-09 08:09:13,237 - tiki - INFO - Fetched 40 products from category 6000, page 33\n",
      "2024-12-09 08:09:13,237 - tiki - INFO - Fetched 40 products from category 6000, page 33\n",
      "2024-12-09 08:09:13,522 - tiki - INFO - Fetched 40 products from category 27616, page 27\n",
      "2024-12-09 08:09:13,522 - tiki - INFO - Fetched 40 products from category 27616, page 27\n",
      "2024-12-09 08:09:13,699 - tiki - INFO - Fetched 40 products from category 11312, page 37\n",
      "2024-12-09 08:09:13,699 - tiki - INFO - Fetched 40 products from category 11312, page 37\n",
      "2024-12-09 08:09:13,723 - tiki - INFO - Fetched 40 products from category 976, page 31\n",
      "2024-12-09 08:09:13,723 - tiki - INFO - Fetched 40 products from category 976, page 31\n",
      "2024-12-09 08:09:13,901 - tiki - INFO - Fetched 40 products from category 15078, page 16\n",
      "2024-12-09 08:09:13,901 - tiki - INFO - Fetched 40 products from category 15078, page 16\n",
      "2024-12-09 08:09:14,135 - tiki - INFO - Fetched 40 products from category 27616, page 28\n",
      "2024-12-09 08:09:14,135 - tiki - INFO - Fetched 40 products from category 27616, page 28\n",
      "2024-12-09 08:09:14,171 - tiki - INFO - Fetched 40 products from category 6000, page 34\n",
      "2024-12-09 08:09:14,171 - tiki - INFO - Fetched 40 products from category 6000, page 34\n",
      "2024-12-09 08:09:14,574 - tiki - INFO - Fetched 40 products from category 27616, page 29\n",
      "2024-12-09 08:09:14,574 - tiki - INFO - Fetched 40 products from category 27616, page 29\n",
      "2024-12-09 08:09:14,679 - tiki - INFO - Fetched 40 products from category 11312, page 38\n",
      "2024-12-09 08:09:14,679 - tiki - INFO - Fetched 40 products from category 11312, page 38\n",
      "2024-12-09 08:09:14,707 - tiki - INFO - Fetched 40 products from category 976, page 32\n",
      "2024-12-09 08:09:14,707 - tiki - INFO - Fetched 40 products from category 976, page 32\n",
      "2024-12-09 08:09:14,811 - tiki - INFO - Fetched 40 products from category 6000, page 35\n",
      "2024-12-09 08:09:14,811 - tiki - INFO - Fetched 40 products from category 6000, page 35\n",
      "2024-12-09 08:09:15,041 - tiki - INFO - Fetched 40 products from category 15078, page 17\n",
      "2024-12-09 08:09:15,041 - tiki - INFO - Fetched 40 products from category 15078, page 17\n",
      "2024-12-09 08:09:15,427 - tiki - INFO - Fetched 40 products from category 976, page 33\n",
      "2024-12-09 08:09:15,427 - tiki - INFO - Fetched 40 products from category 976, page 33\n",
      "2024-12-09 08:09:15,476 - tiki - INFO - Fetched 40 products from category 11312, page 39\n",
      "2024-12-09 08:09:15,476 - tiki - INFO - Fetched 40 products from category 11312, page 39\n",
      "2024-12-09 08:09:15,573 - tiki - INFO - Fetched 40 products from category 15078, page 18\n",
      "2024-12-09 08:09:15,573 - tiki - INFO - Fetched 40 products from category 15078, page 18\n",
      "2024-12-09 08:09:15,620 - tiki - INFO - Fetched 40 products from category 27616, page 30\n",
      "2024-12-09 08:09:15,620 - tiki - INFO - Fetched 40 products from category 27616, page 30\n",
      "2024-12-09 08:09:15,653 - tiki - INFO - Fetched 40 products from category 6000, page 36\n",
      "2024-12-09 08:09:15,653 - tiki - INFO - Fetched 40 products from category 6000, page 36\n",
      "2024-12-09 08:09:16,355 - tiki - INFO - Fetched 40 products from category 11312, page 40\n",
      "2024-12-09 08:09:16,355 - tiki - INFO - Fetched 40 products from category 11312, page 40\n",
      "2024-12-09 08:09:16,388 - tiki - INFO - Fetched 40 products from category 15078, page 19\n",
      "2024-12-09 08:09:16,388 - tiki - INFO - Fetched 40 products from category 15078, page 19\n",
      "2024-12-09 08:09:16,460 - tiki - INFO - Fetched 40 products from category 976, page 34\n",
      "2024-12-09 08:09:16,460 - tiki - INFO - Fetched 40 products from category 976, page 34\n",
      "2024-12-09 08:09:16,503 - tiki - INFO - Fetched 40 products from category 27616, page 31\n",
      "2024-12-09 08:09:16,503 - tiki - INFO - Fetched 40 products from category 27616, page 31\n",
      "2024-12-09 08:09:16,746 - tiki - INFO - Fetched 40 products from category 6000, page 37\n",
      "2024-12-09 08:09:16,746 - tiki - INFO - Fetched 40 products from category 6000, page 37\n",
      "2024-12-09 08:09:17,040 - tiki - INFO - Fetched 40 products from category 15078, page 20\n",
      "2024-12-09 08:09:17,040 - tiki - INFO - Fetched 40 products from category 15078, page 20\n",
      "2024-12-09 08:09:17,104 - tiki - INFO - Fetched 40 products from category 11312, page 41\n",
      "2024-12-09 08:09:17,104 - tiki - INFO - Fetched 40 products from category 11312, page 41\n",
      "2024-12-09 08:09:17,254 - tiki - INFO - Fetched 40 products from category 976, page 35\n",
      "2024-12-09 08:09:17,254 - tiki - INFO - Fetched 40 products from category 976, page 35\n",
      "2024-12-09 08:09:17,259 - tiki - INFO - Fetched 40 products from category 27616, page 32\n",
      "2024-12-09 08:09:17,259 - tiki - INFO - Fetched 40 products from category 27616, page 32\n",
      "2024-12-09 08:09:17,538 - tiki - INFO - Fetched 40 products from category 6000, page 38\n",
      "2024-12-09 08:09:17,538 - tiki - INFO - Fetched 40 products from category 6000, page 38\n",
      "2024-12-09 08:09:17,927 - tiki - INFO - Fetched 40 products from category 11312, page 42\n",
      "2024-12-09 08:09:17,927 - tiki - INFO - Fetched 40 products from category 11312, page 42\n",
      "2024-12-09 08:09:18,031 - tiki - INFO - Fetched 40 products from category 976, page 36\n",
      "2024-12-09 08:09:18,031 - tiki - INFO - Fetched 40 products from category 976, page 36\n",
      "2024-12-09 08:09:18,080 - tiki - INFO - Fetched 40 products from category 15078, page 21\n",
      "2024-12-09 08:09:18,080 - tiki - INFO - Fetched 40 products from category 15078, page 21\n",
      "2024-12-09 08:09:18,113 - tiki - INFO - Fetched 40 products from category 27616, page 33\n",
      "2024-12-09 08:09:18,113 - tiki - INFO - Fetched 40 products from category 27616, page 33\n",
      "2024-12-09 08:09:18,366 - tiki - INFO - Fetched 40 products from category 6000, page 39\n",
      "2024-12-09 08:09:18,366 - tiki - INFO - Fetched 40 products from category 6000, page 39\n",
      "2024-12-09 08:09:18,670 - tiki - INFO - Fetched 40 products from category 11312, page 43\n",
      "2024-12-09 08:09:18,670 - tiki - INFO - Fetched 40 products from category 11312, page 43\n",
      "2024-12-09 08:09:18,845 - tiki - INFO - Fetched 40 products from category 27616, page 34\n",
      "2024-12-09 08:09:18,845 - tiki - INFO - Fetched 40 products from category 27616, page 34\n",
      "2024-12-09 08:09:19,094 - tiki - INFO - Fetched 40 products from category 15078, page 22\n",
      "2024-12-09 08:09:19,094 - tiki - INFO - Fetched 40 products from category 15078, page 22\n",
      "2024-12-09 08:09:19,119 - tiki - INFO - Fetched 40 products from category 6000, page 40\n",
      "2024-12-09 08:09:19,119 - tiki - INFO - Fetched 40 products from category 6000, page 40\n",
      "2024-12-09 08:09:19,127 - tiki - INFO - Fetched 40 products from category 976, page 37\n",
      "2024-12-09 08:09:19,127 - tiki - INFO - Fetched 40 products from category 976, page 37\n",
      "2024-12-09 08:09:19,162 - tiki - INFO - Fetched 40 products from category 11312, page 44\n",
      "2024-12-09 08:09:19,162 - tiki - INFO - Fetched 40 products from category 11312, page 44\n",
      "2024-12-09 08:09:19,621 - tiki - INFO - Fetched 40 products from category 27616, page 35\n",
      "2024-12-09 08:09:19,621 - tiki - INFO - Fetched 40 products from category 27616, page 35\n",
      "2024-12-09 08:09:19,837 - tiki - INFO - Fetched 40 products from category 11312, page 45\n",
      "2024-12-09 08:09:19,837 - tiki - INFO - Fetched 40 products from category 11312, page 45\n",
      "2024-12-09 08:09:19,906 - tiki - INFO - Fetched 40 products from category 15078, page 23\n",
      "2024-12-09 08:09:19,906 - tiki - INFO - Fetched 40 products from category 15078, page 23\n",
      "2024-12-09 08:09:19,944 - tiki - INFO - Fetched 40 products from category 976, page 38\n",
      "2024-12-09 08:09:19,944 - tiki - INFO - Fetched 40 products from category 976, page 38\n",
      "2024-12-09 08:09:20,184 - tiki - INFO - Fetched 40 products from category 6000, page 41\n",
      "2024-12-09 08:09:20,184 - tiki - INFO - Fetched 40 products from category 6000, page 41\n",
      "2024-12-09 08:09:20,300 - tiki - INFO - Fetched 40 products from category 27616, page 36\n",
      "2024-12-09 08:09:20,300 - tiki - INFO - Fetched 40 products from category 27616, page 36\n",
      "2024-12-09 08:09:20,550 - tiki - INFO - Fetched 40 products from category 11312, page 46\n",
      "2024-12-09 08:09:20,550 - tiki - INFO - Fetched 40 products from category 11312, page 46\n",
      "2024-12-09 08:09:20,695 - tiki - INFO - Fetched 40 products from category 6000, page 42\n",
      "2024-12-09 08:09:20,695 - tiki - INFO - Fetched 40 products from category 6000, page 42\n",
      "2024-12-09 08:09:20,817 - tiki - INFO - Fetched 40 products from category 15078, page 24\n",
      "2024-12-09 08:09:20,817 - tiki - INFO - Fetched 40 products from category 15078, page 24\n",
      "2024-12-09 08:09:20,934 - tiki - INFO - Fetched 40 products from category 976, page 39\n",
      "2024-12-09 08:09:20,934 - tiki - INFO - Fetched 40 products from category 976, page 39\n",
      "2024-12-09 08:09:21,117 - tiki - INFO - Fetched 40 products from category 11312, page 47\n",
      "2024-12-09 08:09:21,117 - tiki - INFO - Fetched 40 products from category 11312, page 47\n",
      "2024-12-09 08:09:21,137 - tiki - INFO - Fetched 40 products from category 27616, page 37\n",
      "2024-12-09 08:09:21,137 - tiki - INFO - Fetched 40 products from category 27616, page 37\n",
      "2024-12-09 08:09:21,580 - tiki - INFO - Fetched 40 products from category 6000, page 43\n",
      "2024-12-09 08:09:21,580 - tiki - INFO - Fetched 40 products from category 6000, page 43\n",
      "2024-12-09 08:09:21,625 - tiki - INFO - Fetched 40 products from category 976, page 40\n",
      "2024-12-09 08:09:21,625 - tiki - INFO - Fetched 40 products from category 976, page 40\n",
      "2024-12-09 08:09:21,635 - tiki - INFO - Fetched 40 products from category 15078, page 25\n",
      "2024-12-09 08:09:21,635 - tiki - INFO - Fetched 40 products from category 15078, page 25\n",
      "2024-12-09 08:09:21,849 - tiki - INFO - Fetched 40 products from category 27616, page 38\n",
      "2024-12-09 08:09:21,849 - tiki - INFO - Fetched 40 products from category 27616, page 38\n",
      "2024-12-09 08:09:21,972 - tiki - INFO - Fetched 40 products from category 11312, page 48\n",
      "2024-12-09 08:09:21,972 - tiki - INFO - Fetched 40 products from category 11312, page 48\n",
      "2024-12-09 08:09:22,419 - tiki - INFO - Fetched 40 products from category 6000, page 44\n",
      "2024-12-09 08:09:22,419 - tiki - INFO - Fetched 40 products from category 6000, page 44\n",
      "2024-12-09 08:09:22,452 - tiki - INFO - Fetched 40 products from category 15078, page 26\n",
      "2024-12-09 08:09:22,452 - tiki - INFO - Fetched 40 products from category 15078, page 26\n",
      "2024-12-09 08:09:22,553 - tiki - INFO - Fetched 40 products from category 976, page 41\n",
      "2024-12-09 08:09:22,553 - tiki - INFO - Fetched 40 products from category 976, page 41\n",
      "2024-12-09 08:09:22,629 - tiki - INFO - Fetched 40 products from category 27616, page 39\n",
      "2024-12-09 08:09:22,629 - tiki - INFO - Fetched 40 products from category 27616, page 39\n",
      "2024-12-09 08:09:22,636 - tiki - INFO - Fetched 40 products from category 11312, page 49\n",
      "2024-12-09 08:09:22,636 - tiki - INFO - Fetched 40 products from category 11312, page 49\n",
      "2024-12-09 08:09:23,115 - tiki - INFO - Fetched 40 products from category 15078, page 27\n",
      "2024-12-09 08:09:23,115 - tiki - INFO - Fetched 40 products from category 15078, page 27\n",
      "2024-12-09 08:09:23,133 - tiki - INFO - Fetched 40 products from category 6000, page 45\n",
      "2024-12-09 08:09:23,133 - tiki - INFO - Fetched 40 products from category 6000, page 45\n",
      "2024-12-09 08:09:23,196 - tiki - INFO - Fetched 40 products from category 27616, page 40\n",
      "2024-12-09 08:09:23,196 - tiki - INFO - Fetched 40 products from category 27616, page 40\n",
      "2024-12-09 08:09:23,313 - tiki - INFO - Fetched 40 products from category 976, page 42\n",
      "2024-12-09 08:09:23,313 - tiki - INFO - Fetched 40 products from category 976, page 42\n",
      "2024-12-09 08:09:23,320 - tiki - INFO - Fetched 40 products from category 11312, page 50\n",
      "2024-12-09 08:09:23,320 - tiki - INFO - Fetched 40 products from category 11312, page 50\n",
      "2024-12-09 08:09:23,560 - tiki - INFO - No more data for category 11312 at page 51\n",
      "2024-12-09 08:09:23,560 - tiki - INFO - No more data for category 11312 at page 51\n",
      "2024-12-09 08:09:23,610 - tiki - INFO - Fetched 40 products from category 15078, page 28\n",
      "2024-12-09 08:09:23,610 - tiki - INFO - Fetched 40 products from category 15078, page 28\n",
      "2024-12-09 08:09:23,955 - tiki - INFO - Fetched 40 products from category 27616, page 41\n",
      "2024-12-09 08:09:23,955 - tiki - INFO - Fetched 40 products from category 27616, page 41\n",
      "2024-12-09 08:09:23,993 - tiki - INFO - Fetched 40 products from category 976, page 43\n",
      "2024-12-09 08:09:23,993 - tiki - INFO - Fetched 40 products from category 976, page 43\n",
      "2024-12-09 08:09:24,135 - tiki - INFO - Fetched 40 products from category 6000, page 46\n",
      "2024-12-09 08:09:24,135 - tiki - INFO - Fetched 40 products from category 6000, page 46\n",
      "2024-12-09 08:09:24,275 - tiki - INFO - Fetched 40 products from category 15078, page 29\n",
      "2024-12-09 08:09:24,275 - tiki - INFO - Fetched 40 products from category 15078, page 29\n",
      "2024-12-09 08:09:24,527 - tiki - INFO - Fetched 40 products from category 27616, page 42\n",
      "2024-12-09 08:09:24,527 - tiki - INFO - Fetched 40 products from category 27616, page 42\n",
      "2024-12-09 08:09:24,875 - tiki - INFO - Fetched 40 products from category 15078, page 30\n",
      "2024-12-09 08:09:24,875 - tiki - INFO - Fetched 40 products from category 15078, page 30\n",
      "2024-12-09 08:09:24,916 - tiki - INFO - Fetched 40 products from category 976, page 44\n",
      "2024-12-09 08:09:24,916 - tiki - INFO - Fetched 40 products from category 976, page 44\n",
      "2024-12-09 08:09:24,950 - tiki - INFO - Fetched 40 products from category 6000, page 47\n",
      "2024-12-09 08:09:24,950 - tiki - INFO - Fetched 40 products from category 6000, page 47\n",
      "2024-12-09 08:09:25,237 - tiki - INFO - Fetched 40 products from category 27616, page 43\n",
      "2024-12-09 08:09:25,237 - tiki - INFO - Fetched 40 products from category 27616, page 43\n",
      "2024-12-09 08:09:25,526 - tiki - INFO - Fetched 40 products from category 15078, page 31\n",
      "2024-12-09 08:09:25,526 - tiki - INFO - Fetched 40 products from category 15078, page 31\n",
      "2024-12-09 08:09:25,668 - tiki - INFO - Fetched 40 products from category 976, page 45\n",
      "2024-12-09 08:09:25,668 - tiki - INFO - Fetched 40 products from category 976, page 45\n",
      "2024-12-09 08:09:25,757 - tiki - INFO - Fetched 40 products from category 6000, page 48\n",
      "2024-12-09 08:09:25,757 - tiki - INFO - Fetched 40 products from category 6000, page 48\n",
      "2024-12-09 08:09:26,163 - tiki - INFO - Fetched 40 products from category 27616, page 44\n",
      "2024-12-09 08:09:26,163 - tiki - INFO - Fetched 40 products from category 27616, page 44\n",
      "2024-12-09 08:09:26,191 - tiki - INFO - Fetched 40 products from category 15078, page 32\n",
      "2024-12-09 08:09:26,191 - tiki - INFO - Fetched 40 products from category 15078, page 32\n",
      "2024-12-09 08:09:26,727 - tiki - INFO - Fetched 40 products from category 976, page 46\n",
      "2024-12-09 08:09:26,727 - tiki - INFO - Fetched 40 products from category 976, page 46\n",
      "2024-12-09 08:09:26,762 - tiki - INFO - Fetched 40 products from category 6000, page 49\n",
      "2024-12-09 08:09:26,762 - tiki - INFO - Fetched 40 products from category 6000, page 49\n",
      "2024-12-09 08:09:27,163 - tiki - INFO - Fetched 40 products from category 15078, page 33\n",
      "2024-12-09 08:09:27,163 - tiki - INFO - Fetched 40 products from category 15078, page 33\n",
      "2024-12-09 08:09:27,172 - tiki - INFO - Fetched 40 products from category 27616, page 45\n",
      "2024-12-09 08:09:27,172 - tiki - INFO - Fetched 40 products from category 27616, page 45\n",
      "2024-12-09 08:09:27,370 - tiki - INFO - Fetched 40 products from category 976, page 47\n",
      "2024-12-09 08:09:27,370 - tiki - INFO - Fetched 40 products from category 976, page 47\n",
      "2024-12-09 08:09:27,455 - tiki - INFO - Fetched 40 products from category 6000, page 50\n",
      "2024-12-09 08:09:27,455 - tiki - INFO - Fetched 40 products from category 6000, page 50\n",
      "2024-12-09 08:09:27,816 - tiki - INFO - No more data for category 6000 at page 51\n",
      "2024-12-09 08:09:27,816 - tiki - INFO - No more data for category 6000 at page 51\n",
      "2024-12-09 08:09:27,918 - tiki - INFO - Fetched 40 products from category 27616, page 46\n",
      "2024-12-09 08:09:27,918 - tiki - INFO - Fetched 40 products from category 27616, page 46\n",
      "2024-12-09 08:09:28,012 - tiki - INFO - Fetched 40 products from category 15078, page 34\n",
      "2024-12-09 08:09:28,012 - tiki - INFO - Fetched 40 products from category 15078, page 34\n",
      "2024-12-09 08:09:28,037 - tiki - INFO - Fetched 40 products from category 976, page 48\n",
      "2024-12-09 08:09:28,037 - tiki - INFO - Fetched 40 products from category 976, page 48\n",
      "2024-12-09 08:09:28,460 - tiki - INFO - Fetched 40 products from category 976, page 49\n",
      "2024-12-09 08:09:28,460 - tiki - INFO - Fetched 40 products from category 976, page 49\n",
      "2024-12-09 08:09:28,689 - tiki - INFO - Fetched 40 products from category 27616, page 47\n",
      "2024-12-09 08:09:28,689 - tiki - INFO - Fetched 40 products from category 27616, page 47\n",
      "2024-12-09 08:09:28,971 - tiki - INFO - Fetched 40 products from category 15078, page 35\n",
      "2024-12-09 08:09:28,971 - tiki - INFO - Fetched 40 products from category 15078, page 35\n",
      "2024-12-09 08:09:28,976 - tiki - INFO - Fetched 40 products from category 976, page 50\n",
      "2024-12-09 08:09:28,976 - tiki - INFO - Fetched 40 products from category 976, page 50\n",
      "2024-12-09 08:09:29,226 - tiki - INFO - No more data for category 976 at page 51\n",
      "2024-12-09 08:09:29,226 - tiki - INFO - No more data for category 976 at page 51\n",
      "2024-12-09 08:09:29,469 - tiki - INFO - Fetched 40 products from category 27616, page 48\n",
      "2024-12-09 08:09:29,469 - tiki - INFO - Fetched 40 products from category 27616, page 48\n",
      "2024-12-09 08:09:29,751 - tiki - INFO - Fetched 40 products from category 15078, page 36\n",
      "2024-12-09 08:09:29,751 - tiki - INFO - Fetched 40 products from category 15078, page 36\n",
      "2024-12-09 08:09:30,431 - tiki - INFO - Fetched 40 products from category 27616, page 49\n",
      "2024-12-09 08:09:30,431 - tiki - INFO - Fetched 40 products from category 27616, page 49\n",
      "2024-12-09 08:09:30,509 - tiki - INFO - Fetched 40 products from category 15078, page 37\n",
      "2024-12-09 08:09:30,509 - tiki - INFO - Fetched 40 products from category 15078, page 37\n",
      "2024-12-09 08:09:31,245 - tiki - INFO - Fetched 40 products from category 27616, page 50\n",
      "2024-12-09 08:09:31,245 - tiki - INFO - Fetched 40 products from category 27616, page 50\n",
      "2024-12-09 08:09:31,386 - tiki - INFO - Fetched 40 products from category 15078, page 38\n",
      "2024-12-09 08:09:31,386 - tiki - INFO - Fetched 40 products from category 15078, page 38\n",
      "2024-12-09 08:09:31,483 - tiki - INFO - No more data for category 27616 at page 51\n",
      "2024-12-09 08:09:31,483 - tiki - INFO - No more data for category 27616 at page 51\n",
      "2024-12-09 08:09:31,852 - tiki - INFO - Fetched 40 products from category 15078, page 39\n",
      "2024-12-09 08:09:31,852 - tiki - INFO - Fetched 40 products from category 15078, page 39\n",
      "2024-12-09 08:09:32,313 - tiki - INFO - Fetched 40 products from category 15078, page 40\n",
      "2024-12-09 08:09:32,313 - tiki - INFO - Fetched 40 products from category 15078, page 40\n",
      "2024-12-09 08:09:33,098 - tiki - INFO - Fetched 40 products from category 15078, page 41\n",
      "2024-12-09 08:09:33,098 - tiki - INFO - Fetched 40 products from category 15078, page 41\n",
      "2024-12-09 08:09:33,592 - tiki - INFO - Fetched 40 products from category 15078, page 42\n",
      "2024-12-09 08:09:33,592 - tiki - INFO - Fetched 40 products from category 15078, page 42\n",
      "2024-12-09 08:09:34,484 - tiki - INFO - Fetched 40 products from category 15078, page 43\n",
      "2024-12-09 08:09:34,484 - tiki - INFO - Fetched 40 products from category 15078, page 43\n",
      "2024-12-09 08:09:35,323 - tiki - INFO - Fetched 40 products from category 15078, page 44\n",
      "2024-12-09 08:09:35,323 - tiki - INFO - Fetched 40 products from category 15078, page 44\n",
      "2024-12-09 08:09:36,038 - tiki - INFO - Fetched 40 products from category 15078, page 45\n",
      "2024-12-09 08:09:36,038 - tiki - INFO - Fetched 40 products from category 15078, page 45\n",
      "2024-12-09 08:09:36,665 - tiki - INFO - Fetched 40 products from category 15078, page 46\n",
      "2024-12-09 08:09:36,665 - tiki - INFO - Fetched 40 products from category 15078, page 46\n",
      "2024-12-09 08:09:37,489 - tiki - INFO - Fetched 40 products from category 15078, page 47\n",
      "2024-12-09 08:09:37,489 - tiki - INFO - Fetched 40 products from category 15078, page 47\n",
      "2024-12-09 08:09:38,343 - tiki - INFO - Fetched 40 products from category 15078, page 48\n",
      "2024-12-09 08:09:38,343 - tiki - INFO - Fetched 40 products from category 15078, page 48\n",
      "2024-12-09 08:09:39,135 - tiki - INFO - Fetched 40 products from category 15078, page 49\n",
      "2024-12-09 08:09:39,135 - tiki - INFO - Fetched 40 products from category 15078, page 49\n",
      "2024-12-09 08:09:40,119 - tiki - INFO - Fetched 40 products from category 15078, page 50\n",
      "2024-12-09 08:09:40,119 - tiki - INFO - Fetched 40 products from category 15078, page 50\n",
      "2024-12-09 08:09:40,378 - tiki - INFO - No more data for category 15078 at page 51\n",
      "2024-12-09 08:09:40,378 - tiki - INFO - No more data for category 15078 at page 51\n",
      "2024-12-09 08:10:08,226 - tiki - INFO - Dữ liệu đã được lưu vào Delta Lake tại /mnt/tikistorage/tiki_data.\n",
      "2024-12-09 08:10:08,226 - tiki - INFO - Dữ liệu đã được lưu vào Delta Lake tại /mnt/tikistorage/tiki_data.\n",
      "2024-12-09 08:10:08,233 - tiki - INFO - Dữ liệu từ tất cả danh mục đã được lưu thành công.\n",
      "2024-12-09 08:10:08,233 - tiki - INFO - Dữ liệu từ tất cả danh mục đã được lưu thành công.\n",
      "2024-12-09 08:10:08,292 - tiki - INFO - Quy trình cào dữ liệu hoàn thành!\n",
      "2024-12-09 08:10:08,292 - tiki - INFO - Quy trình cào dữ liệu hoàn thành!\n",
      "\n"
     ]
    }
   ],
   "source": [
    "log_path = \"./logs/tiki.log\"\n",
    "\n",
    "try:\n",
    "    with open(log_path, 'r', encoding='utf-8') as log_file:\n",
    "        print(\"=== Nội dung Log File ===\")\n",
    "        print(log_file.read())\n",
    "except FileNotFoundError:\n",
    "    print(f\"Không tìm thấy log file tại: {log_path}\")\n",
    "except Exception as e:\n",
    "    print(f\"Lỗi khi đọc log file: {e}\")\n"
   ]
  },
  {
   "cell_type": "markdown",
   "metadata": {
    "application/vnd.databricks.v1+cell": {
     "cellMetadata": {
      "byteLimit": 2048000,
      "rowLimit": 10000
     },
     "inputWidgets": {},
     "nuid": "d01285f2-540e-4a9a-8a93-c982ecb6b4b2",
     "showTitle": false,
     "tableResultSettingsMap": {},
     "title": ""
    }
   },
   "source": [
    "# Read Delta"
   ]
  },
  {
   "cell_type": "code",
   "execution_count": 0,
   "metadata": {
    "application/vnd.databricks.v1+cell": {
     "cellMetadata": {
      "byteLimit": 2048000,
      "rowLimit": 10000
     },
     "inputWidgets": {},
     "nuid": "e16cf376-054f-421d-99f7-736d29084a80",
     "showTitle": false,
     "tableResultSettingsMap": {},
     "title": ""
    }
   },
   "outputs": [
    {
     "name": "stdout",
     "output_type": "stream",
     "text": [
      "Dữ liệu đã được đọc thành công!\n",
      "+---------+-------------+--------------------+-------+----------+--------+-------------+--------------+------------+-----------+---------------+--------------------+-------------+--------------+---------+-----------------+----------+--------------------+--------------------+--------------------+--------------------+\n",
      "|       id|          sku|                name|  price|list_price|discount|discount_rate|rating_average|review_count|order_count|favourite_count|       thumbnail_url|quantity_sold|original_price|seller_id|seller_product_id|brand_name|    category_l1_name|    category_l2_name|    category_l3_name|      processed_time|\n",
      "+---------+-------------+--------------------+-------+----------+--------+-------------+--------------+------------+-----------+---------------+--------------------+-------------+--------------+---------+-----------------+----------+--------------------+--------------------+--------------------+--------------------+\n",
      "|276135518|2185015198481|Lót chuột HXSJ ca...|  15000|         0|       0|            0|           0.0|           0|          0|              0|https://salt.tiki...|        185.0|         15000|     4997|        276135519|      HXSJ|Thiết Bị Số - Phụ...|Phụ kiện máy tính...|                null|2024-12-09 08:09:...|\n",
      "|276117054|2416195917745|AirPods 4 - Không...|3290000|         0| 1700000|           34|           5.0|           7|          0|              0|https://salt.tiki...|         84.0|       4990000|        1|        276117486|     Apple|Thiết Bị Số - Phụ...|Thiết Bị Âm Thanh...|  Tai Nghe Bluetooth|2024-12-09 08:09:...|\n",
      "|274388406|9101914998237|Dây sạc Cáp sạc T...|  55000|         0|       0|            0|           4.7|           6|          0|              0|https://salt.tiki...|        156.0|         55000|   162657|        274388410|       AMA|Thiết Bị Số - Phụ...|Phụ Kiện Điện Tho...|   Dây Sạc - Dây Cáp|2024-12-09 08:09:...|\n",
      "|273908414|2894347509500|Cáp sạc nhanh IP ...|  79000|         0|   71000|           47|           4.5|          43|          0|              0|https://salt.tiki...|        367.0|        150000|   188748|        273908415| iCybernet|Thiết Bị Số - Phụ...|Phụ Kiện Điện Tho...|   Dây Sạc - Dây Cáp|2024-12-09 08:09:...|\n",
      "|273880674|4357983105979|Đồng hồ Thông min...|1963000|         0|  527000|           21|           4.5|          11|          0|              0|https://salt.tiki...|        285.0|       2490000|   162657|        273697142|       AMA|Thiết Bị Số - Phụ...|Thiết Bị Đeo Thôn...|                null|2024-12-09 08:09:...|\n",
      "|273406305|9837402688559|Hub Type C FIRO 5...| 284000|         0|  295000|           51|           4.7|          32|          0|              0|https://salt.tiki...|        333.0|        579000|   297205|        273406306|      FIRO|Thiết Bị Số - Phụ...|Phụ kiện máy tính...|Các Loại Cáp Chuy...|2024-12-09 08:09:...|\n",
      "|273095636|4928722656532|Tai nghe Bluetoot...|1190000|         0|  100000|            8|           4.8|          60|          0|              0|https://salt.tiki...|        255.0|       1290000|        1|        273095654|       JBL|Thiết Bị Số - Phụ...|Thiết Bị Âm Thanh...|  Tai Nghe Bluetooth|2024-12-09 08:09:...|\n",
      "|272420799|4226830289053|Tai Nghe Apple Ea...| 470000|         0|  320000|           41|           5.0|         113|          0|              0|https://salt.tiki...|        800.0|        790000|        1|        272420800|     Apple|Thiết Bị Số - Phụ...|Thiết Bị Âm Thanh...|     Tai Nghe Có Dây|2024-12-09 08:09:...|\n",
      "|272030678|9689603408210|Tai Nghe Bluetoot...| 299000|         0|       0|            0|           4.8|         125|          0|              0|https://salt.tiki...|        588.0|        299000|   313025|        272030682|      Hoco|Thiết Bị Số - Phụ...|Thiết Bị Âm Thanh...|  Tai Nghe Bluetooth|2024-12-09 08:09:...|\n",
      "|263433314|8859593959817|Hub Type-C To HDM...| 284000|         0|  295000|           51|           4.8|          83|          0|              0|https://salt.tiki...|        852.0|        579000|   297205|        263433315|      FIRO|Thiết Bị Số - Phụ...|Phụ kiện máy tính...|Các Loại Cáp Chuy...|2024-12-09 08:09:...|\n",
      "+---------+-------------+--------------------+-------+----------+--------+-------------+--------------+------------+-----------+---------------+--------------------+-------------+--------------+---------+-----------------+----------+--------------------+--------------------+--------------------+--------------------+\n",
      "only showing top 10 rows\n",
      "\n"
     ]
    }
   ],
   "source": [
    "from pyspark.sql import SparkSession\n",
    "\n",
    "# Khởi tạo SparkSession\n",
    "spark = SparkSession.builder \\\n",
    "    .appName(\"Delta Lake Read tiki data\") \\\n",
    "    .config(\"spark.sql.extensions\", \"io.delta.sql.DeltaSparkSessionExtension\") \\\n",
    "    .config(\"spark.sql.catalog.spark_catalog\", \"org.apache.spark.sql.delta.catalog.DeltaCatalog\") \\\n",
    "    .getOrCreate()\n",
    "\n",
    "# Đường dẫn Delta Lake\n",
    "delta_path = \"link_storage\"\n",
    "\n",
    "# Đọc dữ liệu từ Delta Lake\n",
    "try:\n",
    "    df = spark.read.format(\"delta\").load(delta_path)\n",
    "    print(\"Dữ liệu đã được đọc thành công!\")\n",
    "    df.show(10)  # Hiển thị 10 dòng đầu tiên\n",
    "except Exception as e:\n",
    "    print(f\"Lỗi khi đọc dữ liệu từ Delta Lake: {e}\")\n"
   ]
  },
  {
   "cell_type": "code",
   "execution_count": 0,
   "metadata": {
    "application/vnd.databricks.v1+cell": {
     "cellMetadata": {
      "byteLimit": 2048000,
      "rowLimit": 10000
     },
     "inputWidgets": {},
     "nuid": "d4307af1-4e61-4ee1-a4a8-2bbe0d578721",
     "showTitle": false,
     "tableResultSettingsMap": {},
     "title": ""
    }
   },
   "outputs": [
    {
     "name": "stdout",
     "output_type": "stream",
     "text": [
      "+--------------------+\n",
      "|    category_l1_name|\n",
      "+--------------------+\n",
      "|Thời Trang Cho Mẹ...|\n",
      "|Ô Tô - Xe Máy - X...|\n",
      "|       Điện Gia Dụng|\n",
      "|Thiết Bị Số - Phụ...|\n",
      "|   Đồ Chơi - Mẹ & Bé|\n",
      "|    Chăm sóc nhà cửa|\n",
      "| Thể Thao - Dã Ngoại|\n",
      "|  Nhà Cửa - Đời Sống|\n",
      "|     Bách Hóa Online|\n",
      "|  Làm Đẹp - Sức Khỏe|\n",
      "|       Thời trang nữ|\n",
      "|       Nhà Sách Tiki|\n",
      "|Điện Thoại - Máy ...|\n",
      "|      Thời trang nam|\n",
      "|Cross Border - Hà...|\n",
      "| Điện Tử - Điện Lạnh|\n",
      "|      Giày - Dép nam|\n",
      "|Laptop - Máy Vi T...|\n",
      "|                NGON|\n",
      "| Phụ kiện thời trang|\n",
      "+--------------------+\n",
      "only showing top 20 rows\n",
      "\n"
     ]
    }
   ],
   "source": [
    "df.select(\"category_l1_name\").distinct().show()\n"
   ]
  },
  {
   "cell_type": "code",
   "execution_count": 0,
   "metadata": {
    "application/vnd.databricks.v1+cell": {
     "cellMetadata": {
      "byteLimit": 2048000,
      "rowLimit": 10000
     },
     "inputWidgets": {},
     "nuid": "6972694a-41ac-489c-8512-591086a09bca",
     "showTitle": false,
     "tableResultSettingsMap": {},
     "title": ""
    }
   },
   "outputs": [
    {
     "name": "stdout",
     "output_type": "stream",
     "text": [
      "root\n",
      " |-- id: long (nullable = true)\n",
      " |-- sku: string (nullable = true)\n",
      " |-- name: string (nullable = true)\n",
      " |-- price: long (nullable = true)\n",
      " |-- list_price: long (nullable = true)\n",
      " |-- discount: long (nullable = true)\n",
      " |-- discount_rate: long (nullable = true)\n",
      " |-- rating_average: double (nullable = true)\n",
      " |-- review_count: long (nullable = true)\n",
      " |-- order_count: long (nullable = true)\n",
      " |-- favourite_count: long (nullable = true)\n",
      " |-- thumbnail_url: string (nullable = true)\n",
      " |-- quantity_sold: double (nullable = true)\n",
      " |-- original_price: long (nullable = true)\n",
      " |-- seller_id: long (nullable = true)\n",
      " |-- seller_product_id: long (nullable = true)\n",
      " |-- brand_name: string (nullable = true)\n",
      " |-- category_l1_name: string (nullable = true)\n",
      " |-- category_l2_name: string (nullable = true)\n",
      " |-- category_l3_name: string (nullable = true)\n",
      " |-- processed_time: timestamp (nullable = true)\n",
      "\n"
     ]
    }
   ],
   "source": [
    "df.printSchema()"
   ]
  },
  {
   "cell_type": "markdown",
   "metadata": {
    "application/vnd.databricks.v1+cell": {
     "cellMetadata": {
      "byteLimit": 2048000,
      "rowLimit": 10000
     },
     "inputWidgets": {},
     "nuid": "55543d12-fd32-4bf1-b380-929a78f9ecb8",
     "showTitle": false,
     "tableResultSettingsMap": {},
     "title": ""
    }
   },
   "source": [
    "# Process Data\n"
   ]
  },
  {
   "cell_type": "code",
   "execution_count": 0,
   "metadata": {
    "application/vnd.databricks.v1+cell": {
     "cellMetadata": {
      "byteLimit": 2048000,
      "rowLimit": 10000
     },
     "inputWidgets": {},
     "nuid": "a2529147-c456-470f-a591-aa603f0dbd7a",
     "showTitle": false,
     "tableResultSettingsMap": {},
     "title": ""
    }
   },
   "outputs": [
    {
     "name": "stdout",
     "output_type": "stream",
     "text": [
      "+---+---+----+-----+----------+--------+-------------+--------------+------------+-----------+---------------+-------------+-------------+--------------+---------+-----------------+----------+----------------+----------------+----------------+--------------+\n",
      "| id|sku|name|price|list_price|discount|discount_rate|rating_average|review_count|order_count|favourite_count|thumbnail_url|quantity_sold|original_price|seller_id|seller_product_id|brand_name|category_l1_name|category_l2_name|category_l3_name|processed_time|\n",
      "+---+---+----+-----+----------+--------+-------------+--------------+------------+-----------+---------------+-------------+-------------+--------------+---------+-----------------+----------+----------------+----------------+----------------+--------------+\n",
      "|  0|  0|   0|    0|         0|       0|            0|             0|           0|          0|              0|            0|        12058|             0|        0|                0|         0|               0|            2477|           26727|             0|\n",
      "+---+---+----+-----+----------+--------+-------------+--------------+------------+-----------+---------------+-------------+-------------+--------------+---------+-----------------+----------+----------------+----------------+----------------+--------------+\n",
      "\n"
     ]
    }
   ],
   "source": [
    "from pyspark.sql.functions import col, sum\n",
    "\n",
    "# Kiểm tra tổng số giá trị null cho mỗi cột\n",
    "null_counts = df.select(\n",
    "    [sum(col(c).isNull().cast(\"int\")).alias(c) for c in df.columns]\n",
    ")\n",
    "\n",
    "null_counts.show()\n"
   ]
  },
  {
   "cell_type": "code",
   "execution_count": 0,
   "metadata": {
    "application/vnd.databricks.v1+cell": {
     "cellMetadata": {
      "byteLimit": 2048000,
      "rowLimit": 10000
     },
     "inputWidgets": {},
     "nuid": "c03f9459-a244-4cc3-89aa-b73ea37b2fe5",
     "showTitle": false,
     "tableResultSettingsMap": {},
     "title": ""
    }
   },
   "outputs": [
    {
     "name": "stdout",
     "output_type": "stream",
     "text": [
      "+-------------+\n",
      "|quantity_sold|\n",
      "+-------------+\n",
      "|185.0        |\n",
      "|84.0         |\n",
      "|156.0        |\n",
      "|367.0        |\n",
      "|285.0        |\n",
      "|333.0        |\n",
      "|255.0        |\n",
      "|800.0        |\n",
      "|588.0        |\n",
      "|852.0        |\n",
      "|1021.0       |\n",
      "|53.0         |\n",
      "|1691.0       |\n",
      "|933.0        |\n",
      "|523.0        |\n",
      "|27.0         |\n",
      "|3936.0       |\n",
      "|1864.0       |\n",
      "|11169.0      |\n",
      "|285.0        |\n",
      "+-------------+\n",
      "only showing top 20 rows\n",
      "\n"
     ]
    }
   ],
   "source": [
    "df.select(\"quantity_sold\").show(20, truncate=False)\n"
   ]
  },
  {
   "cell_type": "code",
   "execution_count": 0,
   "metadata": {
    "application/vnd.databricks.v1+cell": {
     "cellMetadata": {
      "byteLimit": 2048000,
      "rowLimit": 10000
     },
     "inputWidgets": {},
     "nuid": "3b233722-cc17-49a7-8656-8f71899d4df5",
     "showTitle": false,
     "tableResultSettingsMap": {},
     "title": ""
    }
   },
   "outputs": [],
   "source": [
    "df = df.fillna({\"quantity_sold\": 0})\n"
   ]
  },
  {
   "cell_type": "code",
   "execution_count": 0,
   "metadata": {
    "application/vnd.databricks.v1+cell": {
     "cellMetadata": {
      "byteLimit": 2048000,
      "rowLimit": 10000
     },
     "inputWidgets": {},
     "nuid": "73461996-7f34-401a-919f-0699efbfba51",
     "showTitle": false,
     "tableResultSettingsMap": {},
     "title": ""
    }
   },
   "outputs": [
    {
     "name": "stdout",
     "output_type": "stream",
     "text": [
      "Số lượng giá trị null trong cột quantity_sold: 0\n"
     ]
    }
   ],
   "source": [
    "null_count = df.filter(col(\"quantity_sold\").isNull()).count()\n",
    "print(f\"Số lượng giá trị null trong cột quantity_sold: {null_count}\")\n"
   ]
  },
  {
   "cell_type": "code",
   "execution_count": 0,
   "metadata": {
    "application/vnd.databricks.v1+cell": {
     "cellMetadata": {
      "byteLimit": 2048000,
      "rowLimit": 10000
     },
     "inputWidgets": {},
     "nuid": "24b0fe2a-703b-4fb1-8270-d21f2db388ee",
     "showTitle": false,
     "tableResultSettingsMap": {},
     "title": ""
    }
   },
   "outputs": [],
   "source": [
    "df = df.fillna({'category_l2_name': 'Unknown', 'category_l3_name': 'Unknown'})\n"
   ]
  },
  {
   "cell_type": "markdown",
   "metadata": {
    "application/vnd.databricks.v1+cell": {
     "cellMetadata": {},
     "inputWidgets": {},
     "nuid": "95ee960d-4cc2-4111-8746-fa676f7419a9",
     "showTitle": false,
     "tableResultSettingsMap": {},
     "title": ""
    }
   },
   "source": [
    "Tỷ lệ giảm giá\n"
   ]
  },
  {
   "cell_type": "code",
   "execution_count": 0,
   "metadata": {
    "application/vnd.databricks.v1+cell": {
     "cellMetadata": {
      "byteLimit": 2048000,
      "rowLimit": 10000
     },
     "inputWidgets": {},
     "nuid": "dedb1b06-36e3-4254-b7a5-af1ba33e1096",
     "showTitle": false,
     "tableResultSettingsMap": {},
     "title": ""
    }
   },
   "outputs": [
    {
     "name": "stdout",
     "output_type": "stream",
     "text": [
      "+-------+------------------------+\n",
      "|summary|calculated_discount_rate|\n",
      "+-------+------------------------+\n",
      "|  count|                   50423|\n",
      "|   mean|                     0.0|\n",
      "| stddev|                     0.0|\n",
      "|    min|                     0.0|\n",
      "|    max|                     0.0|\n",
      "+-------+------------------------+\n",
      "\n"
     ]
    }
   ],
   "source": [
    "df.select(\"calculated_discount_rate\").describe().show()\n"
   ]
  },
  {
   "cell_type": "code",
   "execution_count": 0,
   "metadata": {
    "application/vnd.databricks.v1+cell": {
     "cellMetadata": {
      "byteLimit": 2048000,
      "rowLimit": 10000
     },
     "inputWidgets": {},
     "nuid": "65b7a5f7-4547-4213-9eb5-619a78e590aa",
     "showTitle": false,
     "tableResultSettingsMap": {},
     "title": ""
    }
   },
   "outputs": [
    {
     "name": "stdout",
     "output_type": "stream",
     "text": [
      "+-----------------+-------------------+------------------+\n",
      "|       brand_name|total_quantity_sold|     average_price|\n",
      "+-----------------+-------------------+------------------+\n",
      "|            OENON|             2166.0|          165000.0|\n",
      "|         miDoctor|            71102.0|115839.65909090909|\n",
      "|          Hồng Ký|               20.0|          285000.0|\n",
      "|           Mamamy|             2341.0|          129993.6|\n",
      "|            KOVER|               34.0|           52640.0|\n",
      "|         peekaboo|               46.0|         1229000.0|\n",
      "|           Chandi|             8758.0|          160400.0|\n",
      "|            Ecoba|            15560.0|          179300.0|\n",
      "|           SAKITO|              365.0|           79000.0|\n",
      "|             ESNA|              103.0|           59000.0|\n",
      "|       Cat's Eyes|               69.0|          153000.0|\n",
      "|          OATSIDE|              122.0|203333.33333333334|\n",
      "|             LiOA|             1333.0|217571.42857142858|\n",
      "|            Total|               65.0|           90202.0|\n",
      "|        Comfybaby|              182.0| 391666.6666666667|\n",
      "|            Peppy|              482.0|230148.66666666666|\n",
      "|            Midea|              701.0|         2892800.0|\n",
      "|             MAWA|             1336.0|          252355.5|\n",
      "|           Belkin|              183.0|          834000.0|\n",
      "|TRIỀU CƯƠNG TECH |             1789.0|          376500.0|\n",
      "+-----------------+-------------------+------------------+\n",
      "only showing top 20 rows\n",
      "\n"
     ]
    }
   ],
   "source": [
    "df_grouped = df.groupBy(\"brand_name\").agg(\n",
    "    {\"quantity_sold\": \"sum\", \"price\": \"avg\"}\n",
    ").withColumnRenamed(\"sum(quantity_sold)\", \"total_quantity_sold\") \\\n",
    " .withColumnRenamed(\"avg(price)\", \"average_price\")\n",
    "\n",
    "df_grouped.show()\n"
   ]
  },
  {
   "cell_type": "code",
   "execution_count": 0,
   "metadata": {
    "application/vnd.databricks.v1+cell": {
     "cellMetadata": {},
     "inputWidgets": {},
     "nuid": "5ba49fca-df85-4e11-a0f6-24b5b895f9e2",
     "showTitle": false,
     "tableResultSettingsMap": {},
     "title": ""
    }
   },
   "outputs": [],
   "source": []
  },
  {
   "cell_type": "markdown",
   "metadata": {
    "application/vnd.databricks.v1+cell": {
     "cellMetadata": {},
     "inputWidgets": {},
     "nuid": "5fb8d69c-6821-47b6-8b9f-7153dcf391c9",
     "showTitle": false,
     "tableResultSettingsMap": {},
     "title": ""
    }
   },
   "source": [
    "## Save to Deltalake"
   ]
  },
  {
   "cell_type": "code",
   "execution_count": 0,
   "metadata": {
    "application/vnd.databricks.v1+cell": {
     "cellMetadata": {
      "byteLimit": 2048000,
      "rowLimit": 10000
     },
     "inputWidgets": {},
     "nuid": "fb69512e-10a5-4571-9a8f-edacb8f08870",
     "showTitle": false,
     "tableResultSettingsMap": {},
     "title": ""
    }
   },
   "outputs": [
    {
     "name": "stdout",
     "output_type": "stream",
     "text": [
      "Dữ liệu đã được lưu thành công vào /mnt/tikistorage/processed_tiki_data\n"
     ]
    }
   ],
   "source": [
    "output_path = \"/mnt/tikistorage/processed_tiki_data\"\n",
    "\n",
    "try:\n",
    "    # Ghi dữ liệu vào Delta Lake\n",
    "    df.write.format(\"delta\").mode(\"overwrite\").option(\"overwriteSchema\", \"true\").save(output_path)\n",
    "    print(f\"Dữ liệu đã được lưu thành công vào {output_path}\")\n",
    "except Exception as e:\n",
    "    print(f\"Lỗi khi lưu dữ liệu vào Delta Lake: {e}\")\n"
   ]
  },
  {
   "cell_type": "code",
   "execution_count": 0,
   "metadata": {
    "application/vnd.databricks.v1+cell": {
     "cellMetadata": {
      "byteLimit": 2048000,
      "rowLimit": 10000
     },
     "inputWidgets": {},
     "nuid": "8c05becb-9fe3-4e23-8d80-5dba46388fc2",
     "showTitle": false,
     "tableResultSettingsMap": {},
     "title": ""
    }
   },
   "outputs": [
    {
     "name": "stdout",
     "output_type": "stream",
     "text": [
      "+---------+-------------+--------------------+-------+----------+--------+-------------+--------------+------------+-----------+---------------+--------------------+-------------+--------------+---------+-----------------+----------+--------------------+--------------------+--------------------+--------------------+------------------------+\n",
      "|       id|          sku|                name|  price|list_price|discount|discount_rate|rating_average|review_count|order_count|favourite_count|       thumbnail_url|quantity_sold|original_price|seller_id|seller_product_id|brand_name|    category_l1_name|    category_l2_name|    category_l3_name|      processed_time|calculated_discount_rate|\n",
      "+---------+-------------+--------------------+-------+----------+--------+-------------+--------------+------------+-----------+---------------+--------------------+-------------+--------------+---------+-----------------+----------+--------------------+--------------------+--------------------+--------------------+------------------------+\n",
      "|276135518|2185015198481|Lót chuột HXSJ ca...|  15000|         0|       0|            0|           0.0|           0|          0|              0|https://salt.tiki...|        185.0|         15000|     4997|        276135519|      HXSJ|Thiết Bị Số - Phụ...|Phụ kiện máy tính...|             Unknown|2024-12-09 08:09:...|                     0.0|\n",
      "|276117054|2416195917745|AirPods 4 - Không...|3290000|         0| 1700000|           34|           5.0|           7|          0|              0|https://salt.tiki...|         84.0|       4990000|        1|        276117486|     Apple|Thiết Bị Số - Phụ...|Thiết Bị Âm Thanh...|  Tai Nghe Bluetooth|2024-12-09 08:09:...|                     0.0|\n",
      "|274388406|9101914998237|Dây sạc Cáp sạc T...|  55000|         0|       0|            0|           4.7|           6|          0|              0|https://salt.tiki...|        156.0|         55000|   162657|        274388410|       AMA|Thiết Bị Số - Phụ...|Phụ Kiện Điện Tho...|   Dây Sạc - Dây Cáp|2024-12-09 08:09:...|                     0.0|\n",
      "|273908414|2894347509500|Cáp sạc nhanh IP ...|  79000|         0|   71000|           47|           4.5|          43|          0|              0|https://salt.tiki...|        367.0|        150000|   188748|        273908415| iCybernet|Thiết Bị Số - Phụ...|Phụ Kiện Điện Tho...|   Dây Sạc - Dây Cáp|2024-12-09 08:09:...|                     0.0|\n",
      "|273880674|4357983105979|Đồng hồ Thông min...|1963000|         0|  527000|           21|           4.5|          11|          0|              0|https://salt.tiki...|        285.0|       2490000|   162657|        273697142|       AMA|Thiết Bị Số - Phụ...|Thiết Bị Đeo Thôn...|             Unknown|2024-12-09 08:09:...|                     0.0|\n",
      "|273406305|9837402688559|Hub Type C FIRO 5...| 284000|         0|  295000|           51|           4.7|          32|          0|              0|https://salt.tiki...|        333.0|        579000|   297205|        273406306|      FIRO|Thiết Bị Số - Phụ...|Phụ kiện máy tính...|Các Loại Cáp Chuy...|2024-12-09 08:09:...|                     0.0|\n",
      "|273095636|4928722656532|Tai nghe Bluetoot...|1190000|         0|  100000|            8|           4.8|          60|          0|              0|https://salt.tiki...|        255.0|       1290000|        1|        273095654|       JBL|Thiết Bị Số - Phụ...|Thiết Bị Âm Thanh...|  Tai Nghe Bluetooth|2024-12-09 08:09:...|                     0.0|\n",
      "|272420799|4226830289053|Tai Nghe Apple Ea...| 470000|         0|  320000|           41|           5.0|         113|          0|              0|https://salt.tiki...|        800.0|        790000|        1|        272420800|     Apple|Thiết Bị Số - Phụ...|Thiết Bị Âm Thanh...|     Tai Nghe Có Dây|2024-12-09 08:09:...|                     0.0|\n",
      "|272030678|9689603408210|Tai Nghe Bluetoot...| 299000|         0|       0|            0|           4.8|         125|          0|              0|https://salt.tiki...|        588.0|        299000|   313025|        272030682|      Hoco|Thiết Bị Số - Phụ...|Thiết Bị Âm Thanh...|  Tai Nghe Bluetooth|2024-12-09 08:09:...|                     0.0|\n",
      "|263433314|8859593959817|Hub Type-C To HDM...| 284000|         0|  295000|           51|           4.8|          83|          0|              0|https://salt.tiki...|        852.0|        579000|   297205|        263433315|      FIRO|Thiết Bị Số - Phụ...|Phụ kiện máy tính...|Các Loại Cáp Chuy...|2024-12-09 08:09:...|                     0.0|\n",
      "+---------+-------------+--------------------+-------+----------+--------+-------------+--------------+------------+-----------+---------------+--------------------+-------------+--------------+---------+-----------------+----------+--------------------+--------------------+--------------------+--------------------+------------------------+\n",
      "only showing top 10 rows\n",
      "\n",
      "root\n",
      " |-- id: long (nullable = true)\n",
      " |-- sku: string (nullable = true)\n",
      " |-- name: string (nullable = true)\n",
      " |-- price: long (nullable = true)\n",
      " |-- list_price: long (nullable = true)\n",
      " |-- discount: long (nullable = true)\n",
      " |-- discount_rate: long (nullable = true)\n",
      " |-- rating_average: double (nullable = true)\n",
      " |-- review_count: long (nullable = true)\n",
      " |-- order_count: long (nullable = true)\n",
      " |-- favourite_count: long (nullable = true)\n",
      " |-- thumbnail_url: string (nullable = true)\n",
      " |-- quantity_sold: double (nullable = true)\n",
      " |-- original_price: long (nullable = true)\n",
      " |-- seller_id: long (nullable = true)\n",
      " |-- seller_product_id: long (nullable = true)\n",
      " |-- brand_name: string (nullable = true)\n",
      " |-- category_l1_name: string (nullable = true)\n",
      " |-- category_l2_name: string (nullable = true)\n",
      " |-- category_l3_name: string (nullable = true)\n",
      " |-- processed_time: timestamp (nullable = true)\n",
      " |-- calculated_discount_rate: double (nullable = true)\n",
      "\n"
     ]
    }
   ],
   "source": [
    "from pyspark.sql import SparkSession\n",
    "\n",
    "# Khởi tạo SparkSession\n",
    "spark = SparkSession.builder.appName(\"Read Delta from Azure\").getOrCreate()\n",
    "\n",
    "# Đường dẫn thư mục Delta Lake trên Azure Blob Storage\n",
    "delta_path = \"link_storage\"\n",
    "\n",
    "# Cấu hình tài khoản Azure Blob Storage\n",
    "spark.conf.set(\n",
    "    \"fs.azure.account.key.tikistoragedata123.blob.core.windows.net\",\n",
    "    \"key\"\n",
    ")\n",
    "\n",
    "try:\n",
    "    df = spark.read.format(\"delta\").load(delta_path)\n",
    "    df.show(10)  \n",
    "    df.printSchema()  \n",
    "except Exception as e:\n",
    "    print(f\"Lỗi khi đọc Delta Lake: {e}\")\n"
   ]
  },
  {
   "cell_type": "code",
   "execution_count": 0,
   "metadata": {
    "application/vnd.databricks.v1+cell": {
     "cellMetadata": {
      "byteLimit": 2048000,
      "rowLimit": 10000
     },
     "inputWidgets": {},
     "nuid": "97318389-21b1-4ee1-aedb-29154ec8c98e",
     "showTitle": false,
     "tableResultSettingsMap": {},
     "title": ""
    }
   },
   "outputs": [
    {
     "name": "stdout",
     "output_type": "stream",
     "text": [
      "+--------------------+\n",
      "|    category_l1_name|\n",
      "+--------------------+\n",
      "|Thời Trang Cho Mẹ...|\n",
      "|Ô Tô - Xe Máy - X...|\n",
      "|       Điện Gia Dụng|\n",
      "|Thiết Bị Số - Phụ...|\n",
      "|   Đồ Chơi - Mẹ & Bé|\n",
      "|    Chăm sóc nhà cửa|\n",
      "| Thể Thao - Dã Ngoại|\n",
      "|  Nhà Cửa - Đời Sống|\n",
      "|     Bách Hóa Online|\n",
      "|  Làm Đẹp - Sức Khỏe|\n",
      "|       Thời trang nữ|\n",
      "|       Nhà Sách Tiki|\n",
      "|Điện Thoại - Máy ...|\n",
      "|      Thời trang nam|\n",
      "|Cross Border - Hà...|\n",
      "| Điện Tử - Điện Lạnh|\n",
      "|      Giày - Dép nam|\n",
      "|Laptop - Máy Vi T...|\n",
      "|                NGON|\n",
      "| Phụ kiện thời trang|\n",
      "+--------------------+\n",
      "only showing top 20 rows\n",
      "\n"
     ]
    }
   ],
   "source": [
    "df.select(\"category_l1_name\").distinct().show()\n"
   ]
  },
  {
   "cell_type": "code",
   "execution_count": 0,
   "metadata": {
    "application/vnd.databricks.v1+cell": {
     "cellMetadata": {},
     "inputWidgets": {},
     "nuid": "00a0f655-c070-4e3e-8ac1-517eba8e60ba",
     "showTitle": false,
     "tableResultSettingsMap": {},
     "title": ""
    }
   },
   "outputs": [],
   "source": []
  }
 ],
 "metadata": {
  "application/vnd.databricks.v1+notebook": {
   "dashboards": [],
   "environmentMetadata": null,
   "language": "python",
   "notebookMetadata": {
    "pythonIndentUnit": 4
   },
   "notebookName": "CK-BigData",
   "widgets": {}
  },
  "language_info": {
   "name": "python"
  }
 },
 "nbformat": 4,
 "nbformat_minor": 0
}
